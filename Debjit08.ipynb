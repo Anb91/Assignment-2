{
  "nbformat": 4,
  "nbformat_minor": 0,
  "metadata": {
    "colab": {
      "name": "Debjit08.ipynb",
      "version": "0.3.2",
      "provenance": []
    },
    "kernelspec": {
      "display_name": "Python 3",
      "language": "python",
      "name": "python3"
    }
  },
  "cells": [
    {
      "metadata": {
        "id": "h7ZO8aF6bc_w",
        "colab_type": "code",
        "colab": {}
      },
      "cell_type": "code",
      "source": [
        "#Create any random list and assign it to a variable dummy_list\n",
        "l=[170,200,152,200,18,152]\n",
        "dummy_list=l"
      ],
      "execution_count": 0,
      "outputs": []
    },
    {
      "metadata": {
        "id": "t-PV-j4vcTjE",
        "colab_type": "code",
        "colab": {
          "base_uri": "https://localhost:8080/",
          "height": 34
        },
        "outputId": "4bfaab98-6ab0-4b6a-b441-18c4ad972320"
      },
      "cell_type": "code",
      "source": [
        "#print dummy_list\n",
        "print(dummy_list)"
      ],
      "execution_count": 2,
      "outputs": [
        {
          "output_type": "stream",
          "text": [
            "[170, 200, 152, 200, 18, 152]\n"
          ],
          "name": "stdout"
        }
      ]
    },
    {
      "metadata": {
        "id": "ZY0kPlLecdbX",
        "colab_type": "code",
        "colab": {
          "base_uri": "https://localhost:8080/",
          "height": 34
        },
        "outputId": "3c1a7773-22d5-412e-fba5-a751acd05072"
      },
      "cell_type": "code",
      "source": [
        "#Reverse dummy_list and print\n",
        "dummy_list.reverse()\n",
        "print(dummy_list)"
      ],
      "execution_count": 3,
      "outputs": [
        {
          "output_type": "stream",
          "text": [
            "[152, 18, 200, 152, 200, 170]\n"
          ],
          "name": "stdout"
        }
      ]
    },
    {
      "metadata": {
        "id": "9qyhY9aScsvB",
        "colab_type": "code",
        "colab": {
          "base_uri": "https://localhost:8080/",
          "height": 54
        },
        "outputId": "447cc017-d109-4797-8bb9-cdad3fe0ceb0"
      },
      "cell_type": "code",
      "source": [
        "#Add the list dummy_list_2 to the previous dummy_list and now print dummy_list\n",
        "dummy_list_2 = [2, 200, 16, 4, 1, 0, 9.45, 45.67, 90, 12.01, 12.02]\n",
        "dummy_list.extend(dummy_list_2)\n",
        "print(dummy_list)"
      ],
      "execution_count": 5,
      "outputs": [
        {
          "output_type": "stream",
          "text": [
            "[152, 18, 200, 152, 200, 170, 2, 200, 16, 4, 1, 0, 9.45, 45.67, 90, 12.01, 12.02, 2, 200, 16, 4, 1, 0, 9.45, 45.67, 90, 12.01, 12.02]\n"
          ],
          "name": "stdout"
        }
      ]
    },
    {
      "metadata": {
        "id": "SEMbOOe0dNQb",
        "colab_type": "code",
        "colab": {}
      },
      "cell_type": "code",
      "source": [
        " #Create a dictionary named dummy_dict which contains all the elements of dummy_list as keys and frequency as values.\n",
        " dummy_dict={}\n",
        " for i in dummy_list:\n",
        "\tdummy_dict[i]=dummy_list.count(i)"
      ],
      "execution_count": 0,
      "outputs": []
    },
    {
      "metadata": {
        "id": "RtCmKoVudjKd",
        "colab_type": "code",
        "colab": {
          "base_uri": "https://localhost:8080/",
          "height": 34
        },
        "outputId": "d249f7ba-d789-4640-bce5-cc37e4287db0"
      },
      "cell_type": "code",
      "source": [
        "#print dummy_dict\n",
        "print(dummy_dict)"
      ],
      "execution_count": 9,
      "outputs": [
        {
          "output_type": "stream",
          "text": [
            "{152: 2, 18: 1, 200: 4, 170: 1, 2: 2, 16: 2, 4: 2, 1: 2, 0: 2, 9.45: 2, 45.67: 2, 90: 2, 12.01: 2, 12.02: 2}\n"
          ],
          "name": "stdout"
        }
      ]
    },
    {
      "metadata": {
        "id": "zZeJsRebdruf",
        "colab_type": "code",
        "colab": {
          "base_uri": "https://localhost:8080/",
          "height": 71
        },
        "outputId": "54b7d718-5308-4b51-9c84-8d69b91c6e3f"
      },
      "cell_type": "code",
      "source": [
        "#Sort dummy_list in ascending order as well as descending order and print the changed lists\n",
        "dummy_list.sort()\n",
        "print(dummy_list)\n",
        "dummy_list.sort(reverse=True)\n",
        "print(dummy_list)"
      ],
      "execution_count": 13,
      "outputs": [
        {
          "output_type": "stream",
          "text": [
            "[0, 0, 1, 1, 2, 2, 4, 4, 9.45, 9.45, 12.01, 12.01, 12.02, 12.02, 16, 16, 18, 45.67, 45.67, 90, 90, 152, 152, 170, 200, 200, 200, 200]\n",
            "[200, 200, 200, 200, 170, 152, 152, 90, 90, 45.67, 45.67, 18, 16, 16, 12.02, 12.02, 12.01, 12.01, 9.45, 9.45, 4, 4, 2, 2, 1, 1, 0, 0]\n"
          ],
          "name": "stdout"
        }
      ]
    },
    {
      "metadata": {
        "id": "W5O7jUDheKkp",
        "colab_type": "code",
        "colab": {}
      },
      "cell_type": "code",
      "source": [
        "#Remove the first item from the list whose value is equal to x. It raises a ValueError if there is no such item.\n",
        "x=200\n",
        "dummy_list.remove(x)\n",
        "  "
      ],
      "execution_count": 0,
      "outputs": []
    },
    {
      "metadata": {
        "id": "c2naOhOge-1m",
        "colab_type": "code",
        "colab": {}
      },
      "cell_type": "code",
      "source": [
        "#Remove the item at position x. x is any random integer\n",
        "from random import randint\n",
        "x=randint(0,50)\n",
        "del dummy_list[x]"
      ],
      "execution_count": 0,
      "outputs": []
    },
    {
      "metadata": {
        "id": "WjJ_NbNrjSCk",
        "colab_type": "code",
        "colab": {
          "base_uri": "https://localhost:8080/",
          "height": 34
        },
        "outputId": "20f8d9e0-65ad-4889-b8d7-a2226972184a"
      },
      "cell_type": "code",
      "source": [
        "# Let's clean everything clear the list and then print\n",
        "dummy_list.clear()\n",
        "print(dummy_list)"
      ],
      "execution_count": 22,
      "outputs": [
        {
          "output_type": "stream",
          "text": [
            "[]\n"
          ],
          "name": "stdout"
        }
      ]
    }
  ]
}