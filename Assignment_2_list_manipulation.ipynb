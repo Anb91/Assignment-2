{
  "nbformat": 4,
  "nbformat_minor": 0,
  "metadata": {
    "colab": {
      "name": "Copy of VedSengupta.ipynb",
      "version": "0.3.2",
      "provenance": []
    },
    "kernelspec": {
      "display_name": "Python 3",
      "language": "python",
      "name": "python3"
    }
  },
  "cells": [
    {
      "metadata": {
        "id": "ae-wBbAZiV7U",
        "colab_type": "code",
        "colab": {
          "base_uri": "https://localhost:8080/",
          "height": 34
        },
        "outputId": "51c08702-4059-4882-bdb4-ead54c0fb869"
      },
      "cell_type": "code",
      "source": [
        "#random list\n",
        "random_list=[1,2,3,4,5]\n",
        "dummy_list=[]\n",
        "i=0\n",
        "while i<len(random_list):\n",
        "  dummy_list.append(random_list[i])\n",
        "  i+=1\n",
        "print(dummy_list)"
      ],
      "execution_count": 65,
      "outputs": [
        {
          "output_type": "stream",
          "text": [
            "[1, 2, 3, 4, 5]\n"
          ],
          "name": "stdout"
        }
      ]
    },
    {
      "metadata": {
        "id": "_2dERcZgks05",
        "colab_type": "code",
        "colab": {
          "base_uri": "https://localhost:8080/",
          "height": 34
        },
        "outputId": "71fd9a46-3727-4b72-d88a-b23744cf2359"
      },
      "cell_type": "code",
      "source": [
        "dummy_list.reverse()\n",
        "print(dummy_list)"
      ],
      "execution_count": 66,
      "outputs": [
        {
          "output_type": "stream",
          "text": [
            "[5, 4, 3, 2, 1]\n"
          ],
          "name": "stdout"
        }
      ]
    },
    {
      "metadata": {
        "id": "KU7ar4iQk3Kp",
        "colab_type": "code",
        "colab": {
          "base_uri": "https://localhost:8080/",
          "height": 34
        },
        "outputId": "af974e4a-035d-42f4-f460-20111fe576c1"
      },
      "cell_type": "code",
      "source": [
        "dummy_list.reverse()\n",
        "dummy_list_2 = [2, 200, 16, 4, 1, 0, 9.45, 45.67, 90, 12.01, 12.02]\n",
        "dummy_list.extend(dummy_list_2)\n",
        "print(dummy_list)"
      ],
      "execution_count": 67,
      "outputs": [
        {
          "output_type": "stream",
          "text": [
            "[1, 2, 3, 4, 5, 2, 200, 16, 4, 1, 0, 9.45, 45.67, 90, 12.01, 12.02]\n"
          ],
          "name": "stdout"
        }
      ]
    },
    {
      "metadata": {
        "id": "YHt9TLOY36XR",
        "colab_type": "code",
        "colab": {
          "base_uri": "https://localhost:8080/",
          "height": 34
        },
        "outputId": "f0f4af98-f788-4e7c-cb50-9f9ac3604137"
      },
      "cell_type": "code",
      "source": [
        "#counter is the dictionary that stores key value pairs of elementsand frequnecy\n",
        "import collections\n",
        "dummy_dict=collections.Counter(dummy_list)\n",
        "print(dummy_dict)\n"
      ],
      "execution_count": 68,
      "outputs": [
        {
          "output_type": "stream",
          "text": [
            "Counter({1: 2, 2: 2, 4: 2, 3: 1, 5: 1, 200: 1, 16: 1, 0: 1, 9.45: 1, 45.67: 1, 90: 1, 12.01: 1, 12.02: 1})\n"
          ],
          "name": "stdout"
        }
      ]
    },
    {
      "metadata": {
        "id": "HRbqk2cc4qpA",
        "colab_type": "code",
        "colab": {
          "base_uri": "https://localhost:8080/",
          "height": 51
        },
        "outputId": "ca65eccf-db63-4f5b-ee29-a5be735fcf0a"
      },
      "cell_type": "code",
      "source": [
        "#ascending order\n",
        "print(sorted(dummy_list))\n",
        "#descending order\n",
        "print(sorted(dummy_list,reverse=True))"
      ],
      "execution_count": 69,
      "outputs": [
        {
          "output_type": "stream",
          "text": [
            "[0, 1, 1, 2, 2, 3, 4, 4, 5, 9.45, 12.01, 12.02, 16, 45.67, 90, 200]\n",
            "[200, 90, 45.67, 16, 12.02, 12.01, 9.45, 5, 4, 4, 3, 2, 2, 1, 1, 0]\n"
          ],
          "name": "stdout"
        }
      ]
    },
    {
      "metadata": {
        "id": "nN1-K9X15qEP",
        "colab_type": "code",
        "colab": {
          "base_uri": "https://localhost:8080/",
          "height": 34
        },
        "outputId": "3b6a622d-ea14-4131-c0f1-e1dca1671392"
      },
      "cell_type": "code",
      "source": [
        "'''X=input(\"Enter value to remove from list\")\n",
        "i=0\n",
        "while i<len(dummy_list):\n",
        "  if dummy_list[i]==X:\n",
        "    del dummy_list[i]\n",
        "  i+=1\n",
        "'''  "
      ],
      "execution_count": 70,
      "outputs": [
        {
          "output_type": "execute_result",
          "data": {
            "text/plain": [
              "'X=input(\"Enter value to remove from list\")\\ni=0\\nwhile i<len(dummy_list):\\n  if dummy_list[i]==X:\\n    del dummy_list[i]\\n  i+=1\\n'"
            ]
          },
          "metadata": {
            "tags": []
          },
          "execution_count": 70
        }
      ]
    },
    {
      "metadata": {
        "id": "FnIXSf5s7t1H",
        "colab_type": "code",
        "colab": {
          "base_uri": "https://localhost:8080/",
          "height": 54
        },
        "outputId": "a9eab41a-5cc1-48e1-d236-d8a6d30f7986"
      },
      "cell_type": "code",
      "source": [
        "'''def remove_value_from_list(list1,val):\n",
        "  return[value for value in list1 if value!=val]\n",
        "X=input()\n",
        "dummy_list=remove_value_from_list(dummy_list,X)\n",
        "print(dummy_list)\n",
        "'''"
      ],
      "execution_count": 71,
      "outputs": [
        {
          "output_type": "execute_result",
          "data": {
            "text/plain": [
              "'def remove_value_from_list(list1,val):\\n  return[value for value in list1 if value!=val]\\nX=input()\\ndummy_list=remove_value_from_list(dummy_list,X)\\nprint(dummy_list)\\n'"
            ]
          },
          "metadata": {
            "tags": []
          },
          "execution_count": 71
        }
      ]
    },
    {
      "metadata": {
        "id": "bUqJIAkymVWn",
        "colab_type": "code",
        "colab": {
          "base_uri": "https://localhost:8080/",
          "height": 51
        },
        "outputId": "5387bf18-e09a-40b6-cc31-ada21114d813"
      },
      "cell_type": "code",
      "source": [
        "x=input()\n",
        "dummy_list[:]=(value for value in dummy_list if value!=x)\n",
        "#dummy_list.remove(x)\n",
        "print(dummy_list)"
      ],
      "execution_count": 72,
      "outputs": [
        {
          "output_type": "stream",
          "text": [
            "2\n",
            "[1, 2, 3, 4, 5, 2, 200, 16, 4, 1, 0, 9.45, 45.67, 90, 12.01, 12.02]\n"
          ],
          "name": "stdout"
        }
      ]
    },
    {
      "metadata": {
        "id": "hpYLoZcP-QYd",
        "colab_type": "code",
        "colab": {
          "base_uri": "https://localhost:8080/",
          "height": 51
        },
        "outputId": "c6554b73-9dd7-49e2-c41a-5a2dfea17a24"
      },
      "cell_type": "code",
      "source": [
        "X=input()\n",
        "a=int(X)\n",
        "del dummy_list[a]\n",
        "print(dummy_list)"
      ],
      "execution_count": 73,
      "outputs": [
        {
          "output_type": "stream",
          "text": [
            "1\n",
            "[1, 3, 4, 5, 2, 200, 16, 4, 1, 0, 9.45, 45.67, 90, 12.01, 12.02]\n"
          ],
          "name": "stdout"
        }
      ]
    },
    {
      "metadata": {
        "id": "7BHpmaWC9tTG",
        "colab_type": "code",
        "colab": {
          "base_uri": "https://localhost:8080/",
          "height": 34
        },
        "outputId": "e15b6659-2303-47b1-f744-271204b6d7cc"
      },
      "cell_type": "code",
      "source": [
        "dummy_list.clear()\n",
        "print(dummy_list)"
      ],
      "execution_count": 74,
      "outputs": [
        {
          "output_type": "stream",
          "text": [
            "[]\n"
          ],
          "name": "stdout"
        }
      ]
    }
  ]
}