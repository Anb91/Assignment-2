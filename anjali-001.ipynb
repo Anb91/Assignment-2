{
  "nbformat": 4,
  "nbformat_minor": 0,
  "metadata": {
    "colab": {
      "name": "anjali-001.ipynb",
      "version": "0.3.2",
      "provenance": []
    },
    "kernelspec": {
      "display_name": "Python 3",
      "language": "python",
      "name": "python3"
    }
  },
  "cells": [
    {
      "metadata": {
        "id": "g-Dt5L8S8R7S",
        "colab_type": "code",
        "colab": {
          "base_uri": "https://localhost:8080/",
          "height": 317
        },
        "outputId": "a71bfe09-dde3-4ea2-9df0-71a7e3591532"
      },
      "cell_type": "code",
      "source": [
        "dummy_list =[1,2,3,4]\n",
        "print(dummy_list)\n",
        "dummy_list= [1,2,3,4]\n",
        "dummy_list.reverse()\n",
        "print(dummy_list)\n",
        "dummy_list_2 = [2, 200, 16, 4, 1, 0, 9.45, 45.67, 90, 12.01, 12.02]\n",
        "dummy_list= [1,2,3,4]\n",
        "dummy_list.append(dummy_list_2)\n",
        "print(dummy_list)\n",
        "dummy_dict= {\"1\":12, \"2\":24, \"3\":36, \"4\":48}\n",
        "print(dummy_dict)\n",
        "dummy_list= [1,2,3,4]\n",
        "dummy_list.sort()\n",
        "dummy_list.sort(reverse=True)\n",
        "print(dummy_list)\n",
        "x = 200\n",
        "dummy_list= [1,2,3,4]\n",
        "dummy_list.remove(x)\n",
        "print(dummy_list)\n",
        "x = 200\n",
        "dummy_list= [1,2,3,4]\n",
        "dummy_list.remove(x)\n",
        "print(dummy_list)\n",
        "dummy_list= [1,2,3,4]\n",
        "dummy_list.clear()\n",
        "print(dummy_list)"
      ],
      "execution_count": 2,
      "outputs": [
        {
          "output_type": "stream",
          "text": [
            "[1, 2, 3, 4]\n",
            "[4, 3, 2, 1]\n",
            "[1, 2, 3, 4, [2, 200, 16, 4, 1, 0, 9.45, 45.67, 90, 12.01, 12.02]]\n",
            "{'1': 12, '2': 24, '3': 36, '4': 48}\n",
            "[4, 3, 2, 1]\n"
          ],
          "name": "stdout"
        },
        {
          "output_type": "error",
          "ename": "ValueError",
          "evalue": "ignored",
          "traceback": [
            "\u001b[0;31m---------------------------------------------------------------------------\u001b[0m",
            "\u001b[0;31mValueError\u001b[0m                                Traceback (most recent call last)",
            "\u001b[0;32m<ipython-input-2-36e00bd6acc5>\u001b[0m in \u001b[0;36m<module>\u001b[0;34m()\u001b[0m\n\u001b[1;32m     16\u001b[0m \u001b[0mx\u001b[0m \u001b[0;34m=\u001b[0m \u001b[0;36m200\u001b[0m\u001b[0;34m\u001b[0m\u001b[0m\n\u001b[1;32m     17\u001b[0m \u001b[0mdummy_list\u001b[0m\u001b[0;34m=\u001b[0m \u001b[0;34m[\u001b[0m\u001b[0;36m1\u001b[0m\u001b[0;34m,\u001b[0m\u001b[0;36m2\u001b[0m\u001b[0;34m,\u001b[0m\u001b[0;36m3\u001b[0m\u001b[0;34m,\u001b[0m\u001b[0;36m4\u001b[0m\u001b[0;34m]\u001b[0m\u001b[0;34m\u001b[0m\u001b[0m\n\u001b[0;32m---> 18\u001b[0;31m \u001b[0mdummy_list\u001b[0m\u001b[0;34m.\u001b[0m\u001b[0mremove\u001b[0m\u001b[0;34m(\u001b[0m\u001b[0mx\u001b[0m\u001b[0;34m)\u001b[0m\u001b[0;34m\u001b[0m\u001b[0m\n\u001b[0m\u001b[1;32m     19\u001b[0m \u001b[0mprint\u001b[0m\u001b[0;34m(\u001b[0m\u001b[0mdummy_list\u001b[0m\u001b[0;34m)\u001b[0m\u001b[0;34m\u001b[0m\u001b[0m\n\u001b[1;32m     20\u001b[0m \u001b[0mx\u001b[0m \u001b[0;34m=\u001b[0m \u001b[0;36m200\u001b[0m\u001b[0;34m\u001b[0m\u001b[0m\n",
            "\u001b[0;31mValueError\u001b[0m: list.remove(x): x not in list"
          ]
        }
      ]
    },
    {
      "metadata": {
        "id": "6Vwy9xVmBp1U",
        "colab_type": "code",
        "colab": {
          "base_uri": "https://localhost:8080/",
          "height": 799
        },
        "outputId": "f5c3fc0a-c67d-4957-88b2-960b8751638f"
      },
      "cell_type": "code",
      "source": [
        "import numpy as np\n",
        "a = np.array([1, 2, 3])\n",
        "print(a)\n",
        "print(type(a))\n",
        "b = np.array([[1,2,3],[4,5,6]])   \n",
        "print(b.shape)\n",
        "print(b[0, 0], b[0, 1], b[1, 0])\n",
        "a = np.zeros(shape=(2,2))\n",
        "b = np.ones(shape = (3,3))\n",
        "c = np.eye(2)\n",
        "d = np.full(shape=(3,3), fill_value=5)\n",
        "e = np.random.random((2,2))\n",
        "print('a', a)\n",
        "print('b', b)\n",
        "print('c',c)\n",
        "print('d',d)\n",
        "print('e',e)\n",
        "a  = np.arange(10)\n",
        "b  = np.linspace(0,10, num=6)\n",
        "print(a)\n",
        "print(b)\n",
        "a = np.array([[1,2,3,4], [5,6,7,8], [9,10,11,12]])\n",
        "b = a[:2, 1:3]\n",
        "print(b)\n",
        "b[0, 0] = 77  \n",
        "print(a[0, 1])\n",
        "a = np.array([[1,2,3,4], [5,6,7,8], [9,10,11,12]])\n",
        "\n",
        "row_r1 = a[1, :]    \n",
        "row_r2 = a[1:2, :]  \n",
        "print(row_r1, row_r1.shape) \n",
        "print(row_r2, row_r2.shape)\n",
        "col_r1 = a[:, 1]\n",
        "col_r2 = a[:, 1:2]\n",
        "print(col_r1, col_r1.shape)\n",
        "print(col_r2, col_r2.shape)\n",
        "x = np.array([[1,2],[3,4]])\n",
        "print(np.sum(x))\n",
        "print(np.sum(x, axis=0))\n",
        "print(np.sum(x, axis=1))\n",
        "b = np.arange(10)\n",
        "print(b)\n",
        "mask = b%2!=0 \n",
        "print(mask)\n",
        "print(b[mask])\n",
        "modified_b = b\n",
        "modified_b[mask] = -1\n",
        "print(modified_b)\n",
        "a = np.arange(9).reshape(3,3)\n",
        "print(a)\n",
        "print(a[:, [1,0,2]])\n",
        "a = np.arange(9).reshape(3,3)\n",
        "print(a)\n",
        "print(a[[1,0,2], :])\n"
      ],
      "execution_count": 4,
      "outputs": [
        {
          "output_type": "stream",
          "text": [
            "[1 2 3]\n",
            "<class 'numpy.ndarray'>\n",
            "(2, 3)\n",
            "1 2 4\n",
            "a [[0. 0.]\n",
            " [0. 0.]]\n",
            "b [[1. 1. 1.]\n",
            " [1. 1. 1.]\n",
            " [1. 1. 1.]]\n",
            "c [[1. 0.]\n",
            " [0. 1.]]\n",
            "d [[5 5 5]\n",
            " [5 5 5]\n",
            " [5 5 5]]\n",
            "e [[0.12394909 0.93245098]\n",
            " [0.43223236 0.24586139]]\n",
            "[0 1 2 3 4 5 6 7 8 9]\n",
            "[ 0.  2.  4.  6.  8. 10.]\n",
            "[[2 3]\n",
            " [6 7]]\n",
            "77\n",
            "[5 6 7 8] (4,)\n",
            "[[5 6 7 8]] (1, 4)\n",
            "[ 2  6 10] (3,)\n",
            "[[ 2]\n",
            " [ 6]\n",
            " [10]] (3, 1)\n",
            "10\n",
            "[4 6]\n",
            "[3 7]\n",
            "[0 1 2 3 4 5 6 7 8 9]\n",
            "[False  True False  True False  True False  True False  True]\n",
            "[1 3 5 7 9]\n",
            "[ 0 -1  2 -1  4 -1  6 -1  8 -1]\n",
            "[[0 1 2]\n",
            " [3 4 5]\n",
            " [6 7 8]]\n",
            "[[1 0 2]\n",
            " [4 3 5]\n",
            " [7 6 8]]\n",
            "[[0 1 2]\n",
            " [3 4 5]\n",
            " [6 7 8]]\n",
            "[[3 4 5]\n",
            " [0 1 2]\n",
            " [6 7 8]]\n"
          ],
          "name": "stdout"
        }
      ]
    },
    {
      "metadata": {
        "id": "UeQGjMz7CdDK",
        "colab_type": "code",
        "colab": {
          "base_uri": "https://localhost:8080/",
          "height": 493
        },
        "outputId": "f19a5dac-cb7e-4479-dcbb-2af6fe881cff"
      },
      "cell_type": "code",
      "source": [
        "import numpy as np\n",
        "a= np.array([[1,2,3], [1,2,3]])\n",
        "print(a)\n",
        "def odd_numbers(numbers) :\n",
        "    a = []\n",
        "    for i in range(0,len(numbers)-1) :\n",
        "        if i % 2 != 0 :\n",
        "            a.append(i)\n",
        "    return a\n",
        "l = [1,2,3,4,5,6,7,8,9,10,11,12,13,14,15,16,17,18,19,20,21]\n",
        "print(odd_numbers(l))\n",
        "a = np.array([1,2,3,2,3,4,3,4,5,6])\n",
        "b = np.array([7,2,10,2,7,4,9,4,9,8])\n",
        "lst = [value for value in a if value in b]\n",
        "print(lst)\n",
        "a = np.arange(10).reshape(5,2)\n",
        "print(a)\n",
        "a = [1, 2, 3, 4, 5, 6, 7, 8, 9]\n",
        "b= np.array([1, 2, 3, 4, 5, 6, 7, 8, 9])\n",
        "print(b)\n",
        "c= b.tolist()\n",
        "print(c)\n",
        "a= np.ones(shape=(10,10))\n",
        "a[1:-1,1:-1] = 0\n",
        "print(a)\n",
        "a= np.zeros(shape=(10,10))\n",
        "a8=a[1:8,1:8]\n",
        "for row in range(len(a8)-1, -1, -1):\n",
        "    for col in range(len(a8[0])-1, -1,-1):\n",
        "        if (row+col)%2==0:\n",
        "            a8[row][col]=1\n",
        "print(a8)"
      ],
      "execution_count": 6,
      "outputs": [
        {
          "output_type": "stream",
          "text": [
            "[[1 2 3]\n",
            " [1 2 3]]\n",
            "[1, 3, 5, 7, 9, 11, 13, 15, 17, 19]\n",
            "[2, 2, 4, 4]\n",
            "[[0 1]\n",
            " [2 3]\n",
            " [4 5]\n",
            " [6 7]\n",
            " [8 9]]\n",
            "[1 2 3 4 5 6 7 8 9]\n",
            "[1, 2, 3, 4, 5, 6, 7, 8, 9]\n",
            "[[1. 1. 1. 1. 1. 1. 1. 1. 1. 1.]\n",
            " [1. 0. 0. 0. 0. 0. 0. 0. 0. 1.]\n",
            " [1. 0. 0. 0. 0. 0. 0. 0. 0. 1.]\n",
            " [1. 0. 0. 0. 0. 0. 0. 0. 0. 1.]\n",
            " [1. 0. 0. 0. 0. 0. 0. 0. 0. 1.]\n",
            " [1. 0. 0. 0. 0. 0. 0. 0. 0. 1.]\n",
            " [1. 0. 0. 0. 0. 0. 0. 0. 0. 1.]\n",
            " [1. 0. 0. 0. 0. 0. 0. 0. 0. 1.]\n",
            " [1. 0. 0. 0. 0. 0. 0. 0. 0. 1.]\n",
            " [1. 1. 1. 1. 1. 1. 1. 1. 1. 1.]]\n",
            "[[1. 0. 1. 0. 1. 0. 1.]\n",
            " [0. 1. 0. 1. 0. 1. 0.]\n",
            " [1. 0. 1. 0. 1. 0. 1.]\n",
            " [0. 1. 0. 1. 0. 1. 0.]\n",
            " [1. 0. 1. 0. 1. 0. 1.]\n",
            " [0. 1. 0. 1. 0. 1. 0.]\n",
            " [1. 0. 1. 0. 1. 0. 1.]]\n"
          ],
          "name": "stdout"
        }
      ]
    }
  ]
}