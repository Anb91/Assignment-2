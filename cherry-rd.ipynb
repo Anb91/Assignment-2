{
  "nbformat": 4,
  "nbformat_minor": 0,
  "metadata": {
    "colab": {
      "name": "cherry-rd.ipynb",
      "version": "0.3.2",
      "provenance": []
    },
    "kernelspec": {
      "display_name": "Python 3",
      "language": "python",
      "name": "python3"
    }
  },
  "cells": [
    {
      "metadata": {
        "id": "zYWhGvjM1qqa",
        "colab_type": "code",
        "colab": {}
      },
      "cell_type": "code",
      "source": [
        "# 1) Create any random list and assign it to a variable dummy_list\n",
        "dummy_list = [24, 6, 1997, 7.53] "
      ],
      "execution_count": 0,
      "outputs": []
    },
    {
      "metadata": {
        "id": "ClpcI8FC4ILF",
        "colab_type": "code",
        "colab": {
          "base_uri": "https://localhost:8080/",
          "height": 35
        },
        "outputId": "54935e0b-f2ea-4823-c81d-11d59dd2b468"
      },
      "cell_type": "code",
      "source": [
        "# 2) print dummy_list\n",
        "print(dummy_list)"
      ],
      "execution_count": 2,
      "outputs": [
        {
          "output_type": "stream",
          "text": [
            "[24, 6, 1997, 7.53]\n"
          ],
          "name": "stdout"
        }
      ]
    },
    {
      "metadata": {
        "id": "erfyJmmK4aGv",
        "colab_type": "code",
        "colab": {
          "base_uri": "https://localhost:8080/",
          "height": 35
        },
        "outputId": "8a630107-4fb1-4d20-b0ae-c4536b4811b9"
      },
      "cell_type": "code",
      "source": [
        "# 3) Reverse dummy_list and print\n",
        "dummy_list.reverse()\n",
        "print(dummy_list)"
      ],
      "execution_count": 3,
      "outputs": [
        {
          "output_type": "stream",
          "text": [
            "[7.53, 1997, 6, 24]\n"
          ],
          "name": "stdout"
        }
      ]
    },
    {
      "metadata": {
        "id": "j-gFJG2y47LA",
        "colab_type": "code",
        "colab": {
          "base_uri": "https://localhost:8080/",
          "height": 35
        },
        "outputId": "9c11c8bf-51ba-4b2d-ea58-fce6ba219fbd"
      },
      "cell_type": "code",
      "source": [
        "# 4) Add the list dummy_list_2 to the previous dummy_list and now print dummy_list\n",
        "dummy_list_2 = [2, 200, 16, 4, 1, 0, 9.45, 45.67, 90, 12.01, 12.02]\n",
        "dummy_list.extend(dummy_list_2)\n",
        "print(dummy_list)\n"
      ],
      "execution_count": 4,
      "outputs": [
        {
          "output_type": "stream",
          "text": [
            "[7.53, 1997, 6, 24, 2, 200, 16, 4, 1, 0, 9.45, 45.67, 90, 12.01, 12.02]\n"
          ],
          "name": "stdout"
        }
      ]
    },
    {
      "metadata": {
        "id": "9xPmokme6ZhF",
        "colab_type": "code",
        "colab": {}
      },
      "cell_type": "code",
      "source": [
        "# 5) Create a dictionary named dummy_dict which contains all the elements of dummy_list as keys and frequency as values.\n",
        "dummy_dict = {}\n",
        "for i in range(len(dummy_list)):\n",
        "  dummy_dict.update({dummy_list[i]:i})"
      ],
      "execution_count": 0,
      "outputs": []
    },
    {
      "metadata": {
        "id": "MIQhH7FU_hZh",
        "colab_type": "code",
        "colab": {
          "base_uri": "https://localhost:8080/",
          "height": 35
        },
        "outputId": "fb577f86-04e6-403c-a8e8-77886c411073"
      },
      "cell_type": "code",
      "source": [
        "# print dummy_dict\n",
        "print(dummy_dict)"
      ],
      "execution_count": 6,
      "outputs": [
        {
          "output_type": "stream",
          "text": [
            "{7.53: 0, 1997: 1, 6: 2, 24: 3, 2: 4, 200: 5, 16: 6, 4: 7, 1: 8, 0: 9, 9.45: 10, 45.67: 11, 90: 12, 12.01: 13, 12.02: 14}\n"
          ],
          "name": "stdout"
        }
      ]
    },
    {
      "metadata": {
        "id": "UEBrpHgnAwkl",
        "colab_type": "code",
        "colab": {
          "base_uri": "https://localhost:8080/",
          "height": 54
        },
        "outputId": "0cae0b9c-6a4b-404f-8d1b-f9d9a98584ab"
      },
      "cell_type": "code",
      "source": [
        "# 7) Sort dummy_list in ascending order as well as descending order and print the changed lists\n",
        "dummy_list.sort()\n",
        "print(dummy_list)\n",
        "dummy_list.sort(reverse=True)\n",
        "print(dummy_list)"
      ],
      "execution_count": 7,
      "outputs": [
        {
          "output_type": "stream",
          "text": [
            "[0, 1, 2, 4, 6, 7.53, 9.45, 12.01, 12.02, 16, 24, 45.67, 90, 200, 1997]\n",
            "[1997, 200, 90, 45.67, 24, 16, 12.02, 12.01, 9.45, 7.53, 6, 4, 2, 1, 0]\n"
          ],
          "name": "stdout"
        }
      ]
    },
    {
      "metadata": {
        "id": "y3FYa3stCxXq",
        "colab_type": "code",
        "colab": {}
      },
      "cell_type": "code",
      "source": [
        "# 8) Remove the first item from the list whose value is equal to x. It raises a ValueError if there is no such item.\n",
        "x = 1\n",
        "\n",
        "if x in dummy_list:\n",
        "  dummy_list.remove(x)\n",
        "else:\n",
        "  raise ValueError(\"there is no such item\")"
      ],
      "execution_count": 0,
      "outputs": []
    },
    {
      "metadata": {
        "id": "wWXy_xlkIk3X",
        "colab_type": "code",
        "colab": {
          "base_uri": "https://localhost:8080/",
          "height": 35
        },
        "outputId": "500b0c37-55f8-4f6b-c51f-82893076da36"
      },
      "cell_type": "code",
      "source": [
        "# 9) Remove the item at position x. x is any random integer\n",
        "from random import randrange\n",
        "x = randrange(0,len(dummy_list))\n",
        "dummy_list.pop(x)"
      ],
      "execution_count": 9,
      "outputs": [
        {
          "output_type": "execute_result",
          "data": {
            "text/plain": [
              "6"
            ]
          },
          "metadata": {
            "tags": []
          },
          "execution_count": 9
        }
      ]
    },
    {
      "metadata": {
        "id": "fUArXu-iLEuR",
        "colab_type": "code",
        "colab": {
          "base_uri": "https://localhost:8080/",
          "height": 35
        },
        "outputId": "b98e0547-d256-4c3b-9c4a-587c424e7b39"
      },
      "cell_type": "code",
      "source": [
        "# 10) Let's clean everything clear the list and then print\n",
        "dummy_list.clear()\n",
        "print(dummy_list)"
      ],
      "execution_count": 10,
      "outputs": [
        {
          "output_type": "stream",
          "text": [
            "[]\n"
          ],
          "name": "stdout"
        }
      ]
    }
  ]
}