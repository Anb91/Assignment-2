{
  "nbformat": 4,
  "nbformat_minor": 0,
  "metadata": {
    "colab": {
      "name": "Sounak97.ipynb",
      "version": "0.3.2",
      "provenance": []
    },
    "kernelspec": {
      "display_name": "Python 3",
      "language": "python",
      "name": "python3"
    }
  },
  "cells": [
    {
      "metadata": {
        "id": "ahm2qZERkD2t",
        "colab_type": "code",
        "colab": {
          "base_uri": "https://localhost:8080/",
          "height": 168
        },
        "outputId": "714872ae-d4e3-46ea-b101-2fe900730884"
      },
      "cell_type": "code",
      "source": [
        "#1) Create any random list and assign it to a variable dummy_list\n",
        "dummy_list=[100,300,200,500,400]\n",
        "print(dummy_list)#2) print dummy_list\n",
        "dummy_list.reverse()\n",
        "print(dummy_list)#3) Reverse dummy_list and print\n",
        "dummy_list_2 = [2, 200, 16, 4, 1, 0, 9.45, 45.67, 90, 12.01, 12.02]\n",
        "dummy_list=dummy_list + dummy_list_2#4) Add the list dummy_list_2 to the previous dummy_list and now print dummy_list\n",
        "print(dummy_list)\n",
        "dummy_dict={}\n",
        "k=2\n",
        "for i in dummy_list:\n",
        "  dummy_dict[i]=k*2\n",
        "  k=k+1\n",
        "print(dummy_dict)  #5) Create a dictionary named dummy_dict which contains all the elements of dummy_list as keys and frequency as values.6) print dummy_dict\n",
        "dummy_list.sort()#7) Sort dummy_list in ascending order as well as descending order and print the changed lists\n",
        "print(dummy_list)\n",
        "dummy_list.sort(reverse=True)\n",
        "print(dummy_list)\n",
        "x=200#8) Remove the first item from the list whose value is equal to x. It raises a ValueError if there is no such item.\n",
        "p=0\n",
        "j=0\n",
        "for j in dummy_list:\n",
        "  if j==x :\n",
        "    dummy_list.remove(j)\n",
        "    break\n",
        "  else:\n",
        "    j=j+1\n",
        "    p=p+1\n",
        "  \n",
        "if p==len(dummy_list):\n",
        "  print(\"ValueError\")\n",
        "else:\n",
        "  print(dummy_list)\n",
        "  \n",
        "x=14#9) Remove the item at position x. x is any random integer\n",
        "if(x>len(dummy_list)):\n",
        "  print(\"Out of Range\")\n",
        "else:\n",
        "  del dummy_list[x]\n",
        "print(dummy_list)\n",
        "del dummy_list[:]#10) Let's clean everything clear the list and then print\n",
        "print(dummy_list)\n",
        "\n",
        "  \n",
        "  \n",
        "\n"
      ],
      "execution_count": 0,
      "outputs": [
        {
          "output_type": "stream",
          "text": [
            "[100, 300, 200, 500, 400]\n",
            "[400, 500, 200, 300, 100]\n",
            "[400, 500, 200, 300, 100, 2, 200, 16, 4, 1, 0, 9.45, 45.67, 90, 12.01, 12.02]\n",
            "{400: 4, 500: 6, 200: 16, 300: 10, 100: 12, 2: 14, 16: 18, 4: 20, 1: 22, 0: 24, 9.45: 26, 45.67: 28, 90: 30, 12.01: 32, 12.02: 34}\n",
            "[0, 1, 2, 4, 9.45, 12.01, 12.02, 16, 45.67, 90, 100, 200, 200, 300, 400, 500]\n",
            "[500, 400, 300, 200, 200, 100, 90, 45.67, 16, 12.02, 12.01, 9.45, 4, 2, 1, 0]\n",
            "[500, 400, 300, 200, 100, 90, 45.67, 16, 12.02, 12.01, 9.45, 4, 2, 1, 0]\n",
            "[500, 400, 300, 200, 100, 90, 45.67, 16, 12.02, 12.01, 9.45, 4, 2, 1]\n",
            "[]\n"
          ],
          "name": "stdout"
        }
      ]
    },
    {
      "metadata": {
        "id": "5mZI6Q3q1cCb",
        "colab_type": "text"
      },
      "cell_type": "markdown",
      "source": [
        ""
      ]
    }
  ]
}