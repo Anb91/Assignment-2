{
  "nbformat": 4,
  "nbformat_minor": 0,
  "metadata": {
    "colab": {
      "name": "VedSengupta.ipynb",
      "version": "0.3.2",
      "provenance": [],
      "include_colab_link": true
    },
    "kernelspec": {
      "display_name": "Python 3",
      "language": "python",
      "name": "python3"
    }
  },
  "cells": [
    {
      "cell_type": "markdown",
      "metadata": {
        "id": "view-in-github",
        "colab_type": "text"
      },
      "source": [
        "[View in Colaboratory](https://colab.research.google.com/github/VedSengupta/Assignment-2/blob/VedSengupta/VedSengupta.ipynb)"
      ]
    },
    {
      "metadata": {
        "id": "ae-wBbAZiV7U",
        "colab_type": "code",
        "colab": {
          "base_uri": "https://localhost:8080/",
          "height": 34
        },
        "outputId": "8880efdd-4817-4e93-dbb0-5b31c42f8a2a"
      },
      "cell_type": "code",
      "source": [
        "#random list\n",
        "random_list=[1,\"a\",2,\"b\",3,\"c\",4,\"d\",5,\"e\"]\n",
        "dummy_list=[]\n",
        "i=0\n",
        "while i<len(random_list):\n",
        "  dummy_list.append(random_list[i])\n",
        "  i+=1\n",
        "print(dummy_list)"
      ],
      "execution_count": 15,
      "outputs": [
        {
          "output_type": "stream",
          "text": [
            "[1, 'a', 2, 'b', 3, 'c', 4, 'd', 5, 'e']\n"
          ],
          "name": "stdout"
        }
      ]
    },
    {
      "metadata": {
        "id": "_2dERcZgks05",
        "colab_type": "code",
        "colab": {
          "base_uri": "https://localhost:8080/",
          "height": 34
        },
        "outputId": "c5c1a17c-9c25-4485-f948-1ed0360b7171"
      },
      "cell_type": "code",
      "source": [
        "dummy_list.reverse()\n",
        "print(dummy_list)"
      ],
      "execution_count": 16,
      "outputs": [
        {
          "output_type": "stream",
          "text": [
            "['e', 5, 'd', 4, 'c', 3, 'b', 2, 'a', 1]\n"
          ],
          "name": "stdout"
        }
      ]
    },
    {
      "metadata": {
        "id": "KU7ar4iQk3Kp",
        "colab_type": "code",
        "colab": {
          "base_uri": "https://localhost:8080/",
          "height": 54
        },
        "outputId": "1ec60f2a-282f-4890-847f-5f3f111651cd"
      },
      "cell_type": "code",
      "source": [
        "dummy_list.reverse()\n",
        "dummy_list_2 = [2, 200, 16, 4, 1, 0, 9.45, 45.67, 90, 12.01, 12.02]\n",
        "i=0\n",
        "while i<len(dummy_list_2):\n",
        "  dummy_list.append(dummy_list_2)\n",
        "  i+=1\n",
        "print(dummy_list)"
      ],
      "execution_count": 17,
      "outputs": [
        {
          "output_type": "stream",
          "text": [
            "[1, 'a', 2, 'b', 3, 'c', 4, 'd', 5, 'e', [2, 200, 16, 4, 1, 0, 9.45, 45.67, 90, 12.01, 12.02], [2, 200, 16, 4, 1, 0, 9.45, 45.67, 90, 12.01, 12.02], [2, 200, 16, 4, 1, 0, 9.45, 45.67, 90, 12.01, 12.02], [2, 200, 16, 4, 1, 0, 9.45, 45.67, 90, 12.01, 12.02], [2, 200, 16, 4, 1, 0, 9.45, 45.67, 90, 12.01, 12.02], [2, 200, 16, 4, 1, 0, 9.45, 45.67, 90, 12.01, 12.02], [2, 200, 16, 4, 1, 0, 9.45, 45.67, 90, 12.01, 12.02], [2, 200, 16, 4, 1, 0, 9.45, 45.67, 90, 12.01, 12.02], [2, 200, 16, 4, 1, 0, 9.45, 45.67, 90, 12.01, 12.02], [2, 200, 16, 4, 1, 0, 9.45, 45.67, 90, 12.01, 12.02], [2, 200, 16, 4, 1, 0, 9.45, 45.67, 90, 12.01, 12.02]]\n"
          ],
          "name": "stdout"
        }
      ]
    },
    {
      "metadata": {
        "id": "bUqJIAkymVWn",
        "colab_type": "code",
        "colab": {}
      },
      "cell_type": "code",
      "source": [
        "#sorting in ascending order\n",
        "print(sorted(dummy_list,reverse=True))"
      ],
      "execution_count": 0,
      "outputs": []
    }
  ]
}