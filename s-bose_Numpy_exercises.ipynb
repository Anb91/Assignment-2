{
  "nbformat": 4,
  "nbformat_minor": 0,
  "metadata": {
    "colab": {
      "name": "s-bose.ipynb",
      "version": "0.3.2",
      "provenance": []
    },
    "kernelspec": {
      "display_name": "Python 3",
      "language": "python",
      "name": "python3"
    }
  },
  "cells": [
    {
      "metadata": {
        "id": "Hr3ako-x8V_C",
        "colab_type": "code",
        "colab": {}
      },
      "cell_type": "code",
      "source": [
        "#Create a uniform subdivision of the interval -1.3 to 2.5 with 64 subdivisions\n",
        "\n",
        "import numpy as np\n",
        "\n",
        "a = np.linspace(-1.3, 2.5, num= 25)\n",
        "print(a)"
      ],
      "execution_count": 0,
      "outputs": []
    },
    {
      "metadata": {
        "id": "gp3JIdJTGzU9",
        "colab_type": "code",
        "colab": {}
      },
      "cell_type": "code",
      "source": [
        "#Generate an array of length 3n filled with the cyclic pattern 1, 2, 3\n",
        "\n",
        "\n",
        "n = 4\n",
        "a = np.array([1, 2, 3])\n",
        "a = np.resize(a, 3*n)\n",
        "print(a)"
      ],
      "execution_count": 0,
      "outputs": []
    },
    {
      "metadata": {
        "id": "Y3Ze28CKHINl",
        "colab_type": "code",
        "colab": {}
      },
      "cell_type": "code",
      "source": [
        "#Create an array of the first 10 odd integers.\n",
        "\n",
        "a = np.arange(1, 20, 2)\n",
        "print(a)"
      ],
      "execution_count": 0,
      "outputs": []
    },
    {
      "metadata": {
        "id": "Ok2MKUj2JsMU",
        "colab_type": "code",
        "colab": {
          "base_uri": "https://localhost:8080/",
          "height": 34
        },
        "outputId": "a7b9810a-99b9-423e-c15d-d475feaf8020"
      },
      "cell_type": "code",
      "source": [
        "#Find intersection of a and b\n",
        "\n",
        "a = np.array([1,2,3,2,3,4,3,4,5,6])\n",
        "b = np.array([7,2,10,2,7,4,9,4,9,8])\n",
        "\n",
        "c = np.intersect1d(a, b)\n",
        "print(c)"
      ],
      "execution_count": 10,
      "outputs": [
        {
          "output_type": "stream",
          "text": [
            "[2 4]\n"
          ],
          "name": "stdout"
        }
      ]
    },
    {
      "metadata": {
        "id": "M_85LtOlKH9x",
        "colab_type": "code",
        "colab": {
          "base_uri": "https://localhost:8080/",
          "height": 52
        },
        "outputId": "699a6b49-30aa-4c4d-c78a-b662253fb8ea"
      },
      "cell_type": "code",
      "source": [
        "# Reshape 1d array a to 2d array of 2X5\n",
        "\n",
        "a = np.arange(10)\n",
        "b = np.resize(a, (2, 5))\n",
        "#b = a.reshape(2, 5)\n",
        "print(b)"
      ],
      "execution_count": 18,
      "outputs": [
        {
          "output_type": "stream",
          "text": [
            "[[0 1 2 3 4]\n",
            " [5 6 7 8 9]]\n"
          ],
          "name": "stdout"
        }
      ]
    },
    {
      "metadata": {
        "id": "ERVMwri0LfEy",
        "colab_type": "code",
        "colab": {
          "base_uri": "https://localhost:8080/",
          "height": 52
        },
        "outputId": "67aebd04-89e0-4ab5-a6db-43d72a771c51"
      },
      "cell_type": "code",
      "source": [
        "#Create a numpy array to list and vice versa\n",
        "\n",
        "a = [1, 2, 3, 4, 5, 6, 7, 8, 9]    #list\n",
        "b = np.array(a)                    #to array\n",
        "print(b)                           #array\n",
        "c = list(b)                        #to list\n",
        "print(c)                           #list again\n"
      ],
      "execution_count": 28,
      "outputs": [
        {
          "output_type": "stream",
          "text": [
            "[1 2 3 4 5 6 7 8 9]\n",
            "[1, 2, 3, 4, 5, 6, 7, 8, 9]\n"
          ],
          "name": "stdout"
        }
      ]
    },
    {
      "metadata": {
        "id": "Yr5g8gx7O1lC",
        "colab_type": "code",
        "colab": {}
      },
      "cell_type": "code",
      "source": [
        "#Create a 10 x 10 arrays of zeros and then \"frame\" it with a border of ones.\n",
        "\n",
        "a = np.zeros((10, 10))\n",
        "a[0, :] = a[-1, :] = 1\n",
        "a[:, 0] = a[:, -1] = 1\n",
        "print(a)\n",
        "\n",
        "#alternatively\n",
        "\"\"\"\n",
        "a = np.ones((10, 10))\n",
        "a[1:-1, 1:-1] = 0\n",
        "print(a)\n",
        "\n",
        "\"\"\""
      ],
      "execution_count": 0,
      "outputs": []
    },
    {
      "metadata": {
        "id": "Ya3pR1YPO4hA",
        "colab_type": "code",
        "colab": {
          "base_uri": "https://localhost:8080/",
          "height": 158
        },
        "outputId": "d6105a44-ddf0-4df6-ef62-f59f551e7472"
      },
      "cell_type": "code",
      "source": [
        "#Create an 8 x 8 array with a checkerboard pattern of zeros and ones using a slicing+striding approach.\n",
        "\n",
        "a = np.ones((8, 8))\n",
        "a[1::2, ::2] = 0\n",
        "a[::2, 1::2] = 0\n",
        "print(a)\n"
      ],
      "execution_count": 31,
      "outputs": [
        {
          "output_type": "stream",
          "text": [
            "[[1. 0. 1. 0. 1. 0. 1. 0.]\n",
            " [0. 1. 0. 1. 0. 1. 0. 1.]\n",
            " [1. 0. 1. 0. 1. 0. 1. 0.]\n",
            " [0. 1. 0. 1. 0. 1. 0. 1.]\n",
            " [1. 0. 1. 0. 1. 0. 1. 0.]\n",
            " [0. 1. 0. 1. 0. 1. 0. 1.]\n",
            " [1. 0. 1. 0. 1. 0. 1. 0.]\n",
            " [0. 1. 0. 1. 0. 1. 0. 1.]]\n"
          ],
          "name": "stdout"
        }
      ]
    }
  ]
}