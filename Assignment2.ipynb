{
  "nbformat": 4,
  "nbformat_minor": 0,
  "metadata": {
    "colab": {
      "name": "Assignment2.ipynb",
      "version": "0.3.2",
      "provenance": [],
      "collapsed_sections": []
    },
    "kernelspec": {
      "display_name": "Python 3",
      "language": "python",
      "name": "python3"
    }
  },
  "cells": [
    {
      "metadata": {
        "id": "ae-wBbAZiV7U",
        "colab_type": "code",
        "colab": {
          "base_uri": "https://localhost:8080/",
          "height": 34
        },
        "outputId": "a9524a9f-12a1-4839-cb9f-a7c74be9c40c"
      },
      "cell_type": "code",
      "source": [
        "#random list\n",
        "random_list=[1,2,3,4,5]\n",
        "dummy_list=[]\n",
        "i=0\n",
        "while i<len(random_list):\n",
        "  dummy_list.append(random_list[i])\n",
        "  i+=1\n",
        "print(dummy_list)"
      ],
      "execution_count": 1,
      "outputs": [
        {
          "output_type": "stream",
          "text": [
            "[1, 2, 3, 4, 5]\n"
          ],
          "name": "stdout"
        }
      ]
    },
    {
      "metadata": {
        "id": "_2dERcZgks05",
        "colab_type": "code",
        "colab": {
          "base_uri": "https://localhost:8080/",
          "height": 34
        },
        "outputId": "e1fc6948-004c-450f-fa00-63fff11bf7fc"
      },
      "cell_type": "code",
      "source": [
        "dummy_list.reverse()\n",
        "print(dummy_list)"
      ],
      "execution_count": 2,
      "outputs": [
        {
          "output_type": "stream",
          "text": [
            "[5, 4, 3, 2, 1]\n"
          ],
          "name": "stdout"
        }
      ]
    },
    {
      "metadata": {
        "id": "KU7ar4iQk3Kp",
        "colab_type": "code",
        "colab": {
          "base_uri": "https://localhost:8080/",
          "height": 34
        },
        "outputId": "15833344-38cd-4c63-fccf-0dcefbeeb5b2"
      },
      "cell_type": "code",
      "source": [
        "dummy_list.reverse()\n",
        "dummy_list_2 = [2, 200, 16, 4, 1, 0, 9.45, 45.67, 90, 12.01, 12.02]\n",
        "dummy_list.extend(dummy_list_2)\n",
        "print(dummy_list)"
      ],
      "execution_count": 3,
      "outputs": [
        {
          "output_type": "stream",
          "text": [
            "[1, 2, 3, 4, 5, 2, 200, 16, 4, 1, 0, 9.45, 45.67, 90, 12.01, 12.02]\n"
          ],
          "name": "stdout"
        }
      ]
    },
    {
      "metadata": {
        "id": "YHt9TLOY36XR",
        "colab_type": "code",
        "colab": {
          "base_uri": "https://localhost:8080/",
          "height": 34
        },
        "outputId": "4adfd9c0-16be-42c4-c77d-f62b9619d48d"
      },
      "cell_type": "code",
      "source": [
        "#counter is the dictionary that stores key value pairs of elementsand frequnecy\n",
        "import collections\n",
        "dummy_dict=collections.Counter(dummy_list)\n",
        "print(dummy_dict)\n"
      ],
      "execution_count": 4,
      "outputs": [
        {
          "output_type": "stream",
          "text": [
            "Counter({1: 2, 2: 2, 4: 2, 3: 1, 5: 1, 200: 1, 16: 1, 0: 1, 9.45: 1, 45.67: 1, 90: 1, 12.01: 1, 12.02: 1})\n"
          ],
          "name": "stdout"
        }
      ]
    },
    {
      "metadata": {
        "id": "HRbqk2cc4qpA",
        "colab_type": "code",
        "colab": {
          "base_uri": "https://localhost:8080/",
          "height": 51
        },
        "outputId": "d9111195-1f1b-42f2-f461-496ecf663798"
      },
      "cell_type": "code",
      "source": [
        "#ascending order\n",
        "print(sorted(dummy_list))\n",
        "#descending order\n",
        "print(sorted(dummy_list,reverse=True))"
      ],
      "execution_count": 5,
      "outputs": [
        {
          "output_type": "stream",
          "text": [
            "[0, 1, 1, 2, 2, 3, 4, 4, 5, 9.45, 12.01, 12.02, 16, 45.67, 90, 200]\n",
            "[200, 90, 45.67, 16, 12.02, 12.01, 9.45, 5, 4, 4, 3, 2, 2, 1, 1, 0]\n"
          ],
          "name": "stdout"
        }
      ]
    },
    {
      "metadata": {
        "id": "nN1-K9X15qEP",
        "colab_type": "code",
        "colab": {
          "base_uri": "https://localhost:8080/",
          "height": 34
        },
        "outputId": "3c51fb30-c04a-42f0-bad7-1c56cb81c509"
      },
      "cell_type": "code",
      "source": [
        "'''X=input(\"Enter value to remove from list\")\n",
        "i=0\n",
        "while i<len(dummy_list):\n",
        "  if dummy_list[i]==X:\n",
        "    del dummy_list[i]\n",
        "  i+=1\n",
        "'''  "
      ],
      "execution_count": 6,
      "outputs": [
        {
          "output_type": "execute_result",
          "data": {
            "text/plain": [
              "'X=input(\"Enter value to remove from list\")\\ni=0\\nwhile i<len(dummy_list):\\n  if dummy_list[i]==X:\\n    del dummy_list[i]\\n  i+=1\\n'"
            ]
          },
          "metadata": {
            "tags": []
          },
          "execution_count": 6
        }
      ]
    },
    {
      "metadata": {
        "id": "FnIXSf5s7t1H",
        "colab_type": "code",
        "colab": {
          "base_uri": "https://localhost:8080/",
          "height": 54
        },
        "outputId": "f03fa90d-5266-443d-cfb7-eb24cd699091"
      },
      "cell_type": "code",
      "source": [
        "'''def remove_value_from_list(list1,val):\n",
        "  return[value for value in list1 if value!=val]\n",
        "X=input()\n",
        "dummy_list=remove_value_from_list(dummy_list,X)\n",
        "print(dummy_list)\n",
        "'''"
      ],
      "execution_count": 7,
      "outputs": [
        {
          "output_type": "execute_result",
          "data": {
            "text/plain": [
              "'def remove_value_from_list(list1,val):\\n  return[value for value in list1 if value!=val]\\nX=input()\\ndummy_list=remove_value_from_list(dummy_list,X)\\nprint(dummy_list)\\n'"
            ]
          },
          "metadata": {
            "tags": []
          },
          "execution_count": 7
        }
      ]
    },
    {
      "metadata": {
        "id": "bUqJIAkymVWn",
        "colab_type": "code",
        "colab": {}
      },
      "cell_type": "code",
      "source": [
        "x=input()\n",
        "dummy_list[:]=(value for value in dummy_list if value!=x)\n",
        "#dummy_list.remove(x)\n",
        "print(dummy_list)"
      ],
      "execution_count": 0,
      "outputs": []
    },
    {
      "metadata": {
        "id": "hpYLoZcP-QYd",
        "colab_type": "code",
        "colab": {}
      },
      "cell_type": "code",
      "source": [
        "X=input()\n",
        "a=int(X)\n",
        "del dummy_list[a]\n",
        "print(dummy_list)"
      ],
      "execution_count": 0,
      "outputs": []
    },
    {
      "metadata": {
        "id": "7BHpmaWC9tTG",
        "colab_type": "code",
        "colab": {}
      },
      "cell_type": "code",
      "source": [
        "dummy_list.clear()\n",
        "print(dummy_list)\n"
      ],
      "execution_count": 0,
      "outputs": []
    },
    {
      "metadata": {
        "id": "qo6tvey-81WI",
        "colab_type": "text"
      },
      "cell_type": "markdown",
      "source": [
        "Assignment 2 NUMPY Exercise\n"
      ]
    },
    {
      "metadata": {
        "id": "S4hVo-WeQj8A",
        "colab_type": "code",
        "colab": {}
      },
      "cell_type": "code",
      "source": [
        "import numpy as np"
      ],
      "execution_count": 0,
      "outputs": []
    },
    {
      "metadata": {
        "id": "QSx3ZJgF85uX",
        "colab_type": "code",
        "colab": {
          "base_uri": "https://localhost:8080/",
          "height": 34
        },
        "outputId": "07db8bee-db7a-4c77-938d-2e34e3e14862"
      },
      "cell_type": "code",
      "source": [
        "#cyclic pattern\n",
        "\n",
        "X=np.array([1,2,3])\n",
        "Y=np.resize(X,13)\n",
        "print(Y)"
      ],
      "execution_count": 10,
      "outputs": [
        {
          "output_type": "stream",
          "text": [
            "[1 2 3 1 2 3 1 2 3 1 2 3 1]\n"
          ],
          "name": "stdout"
        }
      ]
    },
    {
      "metadata": {
        "id": "VUGWQ8Ot_QB_",
        "colab_type": "code",
        "colab": {
          "base_uri": "https://localhost:8080/",
          "height": 34
        },
        "outputId": "db1b79ca-ab05-4d64-bdd1-97623aff8fe9"
      },
      "cell_type": "code",
      "source": [
        "#first 10 odd integers\n",
        "odd=np.array([i for i in range(1,20) if i%2!=0])\n",
        "print(odd)"
      ],
      "execution_count": 11,
      "outputs": [
        {
          "output_type": "stream",
          "text": [
            "[ 1  3  5  7  9 11 13 15 17 19]\n"
          ],
          "name": "stdout"
        }
      ]
    },
    {
      "metadata": {
        "id": "8vdFKXZ5_0PF",
        "colab_type": "code",
        "colab": {
          "base_uri": "https://localhost:8080/",
          "height": 34
        },
        "outputId": "2e5c6103-f8b7-419b-ca2f-f27728fc970d"
      },
      "cell_type": "code",
      "source": [
        "#intersection of a and b\n",
        "a = np.array([1,2,3,2,3,4,3,4,5,6])\n",
        "b = np.array([7,2,10,2,7,4,9,4,9,8])\n",
        "c=np.intersect1d(a,b)\n",
        "print(c)"
      ],
      "execution_count": 12,
      "outputs": [
        {
          "output_type": "stream",
          "text": [
            "[2 4]\n"
          ],
          "name": "stdout"
        }
      ]
    },
    {
      "metadata": {
        "id": "s4Ht5qxABHIZ",
        "colab_type": "code",
        "colab": {
          "base_uri": "https://localhost:8080/",
          "height": 51
        },
        "outputId": "19a1fc51-6240-4be8-9aea-c8e051f23219"
      },
      "cell_type": "code",
      "source": [
        "#Reshape\n",
        "print(np.arange(10).reshape(2,5))"
      ],
      "execution_count": 13,
      "outputs": [
        {
          "output_type": "stream",
          "text": [
            "[[0 1 2 3 4]\n",
            " [5 6 7 8 9]]\n"
          ],
          "name": "stdout"
        }
      ]
    },
    {
      "metadata": {
        "id": "x806sRUFCqnZ",
        "colab_type": "code",
        "colab": {
          "base_uri": "https://localhost:8080/",
          "height": 51
        },
        "outputId": "82f57fcf-4923-4645-b461-10ced23511d9"
      },
      "cell_type": "code",
      "source": [
        "#list to array &vice-versa\n",
        "a = np.arange(0,10)\n",
        "a.tolist()\n",
        "print(a)\n",
        "b=np.asarray(a)\n",
        "print(b)"
      ],
      "execution_count": 18,
      "outputs": [
        {
          "output_type": "stream",
          "text": [
            "[0 1 2 3 4 5 6 7 8 9]\n",
            "[0 1 2 3 4 5 6 7 8 9]\n"
          ],
          "name": "stdout"
        }
      ]
    },
    {
      "metadata": {
        "id": "OxPQfucHLXGO",
        "colab_type": "code",
        "colab": {
          "base_uri": "https://localhost:8080/",
          "height": 187
        },
        "outputId": "77b4c1c7-6de3-4098-a25d-7e27f5845832"
      },
      "cell_type": "code",
      "source": [
        "#10*10  array with zeroes in border\n",
        "Z = np.ones((10,10))\n",
        "Z[1:-1,1:-1] = 0\n",
        "print(Z)"
      ],
      "execution_count": 16,
      "outputs": [
        {
          "output_type": "stream",
          "text": [
            "[[1. 1. 1. 1. 1. 1. 1. 1. 1. 1.]\n",
            " [1. 0. 0. 0. 0. 0. 0. 0. 0. 1.]\n",
            " [1. 0. 0. 0. 0. 0. 0. 0. 0. 1.]\n",
            " [1. 0. 0. 0. 0. 0. 0. 0. 0. 1.]\n",
            " [1. 0. 0. 0. 0. 0. 0. 0. 0. 1.]\n",
            " [1. 0. 0. 0. 0. 0. 0. 0. 0. 1.]\n",
            " [1. 0. 0. 0. 0. 0. 0. 0. 0. 1.]\n",
            " [1. 0. 0. 0. 0. 0. 0. 0. 0. 1.]\n",
            " [1. 0. 0. 0. 0. 0. 0. 0. 0. 1.]\n",
            " [1. 1. 1. 1. 1. 1. 1. 1. 1. 1.]]\n"
          ],
          "name": "stdout"
        }
      ]
    },
    {
      "metadata": {
        "id": "KMKn4NAkQ8T4",
        "colab_type": "code",
        "colab": {
          "base_uri": "https://localhost:8080/",
          "height": 153
        },
        "outputId": "9b46ea82-c4a1-41a9-8da1-5c85fa780370"
      },
      "cell_type": "code",
      "source": [
        "#checker board\n",
        "x = np.ones((3,3))\n",
        "x = np.zeros((8,8),dtype=int)\n",
        "x[1::2,::2] = 1\n",
        "x[::2,1::2] = 1\n",
        "print(x)"
      ],
      "execution_count": 23,
      "outputs": [
        {
          "output_type": "stream",
          "text": [
            "[[0 1 0 1 0 1 0 1]\n",
            " [1 0 1 0 1 0 1 0]\n",
            " [0 1 0 1 0 1 0 1]\n",
            " [1 0 1 0 1 0 1 0]\n",
            " [0 1 0 1 0 1 0 1]\n",
            " [1 0 1 0 1 0 1 0]\n",
            " [0 1 0 1 0 1 0 1]\n",
            " [1 0 1 0 1 0 1 0]]\n"
          ],
          "name": "stdout"
        }
      ]
    }
  ]
}