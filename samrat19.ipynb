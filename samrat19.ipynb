{
  "nbformat": 4,
  "nbformat_minor": 0,
  "metadata": {
    "colab": {
      "name": "samrat19.ipynb",
      "version": "0.3.2",
      "provenance": [],
      "include_colab_link": true
    },
    "kernelspec": {
      "display_name": "Python 3",
      "language": "python",
      "name": "python3"
    }
  },
  "cells": [
    {
      "cell_type": "markdown",
      "metadata": {
        "id": "view-in-github",
        "colab_type": "text"
      },
      "source": [
        "[View in Colaboratory](https://colab.research.google.com/github/samrat19/Assignment-2/blob/samrat19/samrat19.ipynb)"
      ]
    },
    {
      "metadata": {
        "id": "jqLuehlsEeTb",
        "colab_type": "text"
      },
      "cell_type": "markdown",
      "source": [
        "#1. List.ipynb"
      ]
    },
    {
      "metadata": {
        "id": "Gc3l52AiE0gN",
        "colab_type": "text"
      },
      "cell_type": "markdown",
      "source": [
        "\n",
        "\n",
        "```\n",
        "1) Create any random list and assign it to a variable dummy_list"
      ]
    },
    {
      "metadata": {
        "id": "QgErAq9jER0F",
        "colab_type": "code",
        "colab": {}
      },
      "cell_type": "code",
      "source": [
        "\n",
        "import random\n",
        "dummy_list = [random.randrange(1, 100) for i in range(0, 10)]"
      ],
      "execution_count": 0,
      "outputs": []
    },
    {
      "metadata": {
        "id": "DSP_DfUgE7_F",
        "colab_type": "text"
      },
      "cell_type": "markdown",
      "source": [
        "2) print dummy_list"
      ]
    },
    {
      "metadata": {
        "id": "Y5m9coOfE_lu",
        "colab_type": "code",
        "colab": {
          "base_uri": "https://localhost:8080/",
          "height": 34
        },
        "outputId": "99fbdc60-164b-4d9b-c2dd-223e374cb76a"
      },
      "cell_type": "code",
      "source": [
        "\n",
        "print(dummy_list)"
      ],
      "execution_count": 0,
      "outputs": [
        {
          "output_type": "stream",
          "text": [
            "[84, 42, 1, 34, 88, 67, 31, 9, 66, 45]\n"
          ],
          "name": "stdout"
        }
      ]
    },
    {
      "metadata": {
        "id": "njRL4JXdFANF",
        "colab_type": "text"
      },
      "cell_type": "markdown",
      "source": [
        "3) Reverse dummy_list and print"
      ]
    },
    {
      "metadata": {
        "id": "6O5O4IN9FCR9",
        "colab_type": "code",
        "colab": {
          "base_uri": "https://localhost:8080/",
          "height": 34
        },
        "outputId": "c955d224-7111-4877-d379-318eca4cde9d"
      },
      "cell_type": "code",
      "source": [
        "\n",
        "dummy_list.reverse()\n",
        "print(dummy_list)"
      ],
      "execution_count": 0,
      "outputs": [
        {
          "output_type": "stream",
          "text": [
            "[45, 66, 9, 31, 67, 88, 34, 1, 42, 84]\n"
          ],
          "name": "stdout"
        }
      ]
    },
    {
      "metadata": {
        "id": "wBl1b5m7FCl1",
        "colab_type": "text"
      },
      "cell_type": "markdown",
      "source": [
        "4) Add the list dummy_list_2 to the previous dummy_list and now print dummy_list"
      ]
    },
    {
      "metadata": {
        "id": "BKaKOriCFEue",
        "colab_type": "code",
        "colab": {
          "base_uri": "https://localhost:8080/",
          "height": 34
        },
        "outputId": "76adcb12-9840-4dee-ff6e-735fb0709b71"
      },
      "cell_type": "code",
      "source": [
        "\n",
        "dummy_list_2 = [2, 200, 16, 4, 1, 0, 9.45, 45.67, 90, 12.01, 12.02]\n",
        "dummy_list = dummy_list + dummy_list_2\n",
        "print(dummy_list)\n"
      ],
      "execution_count": 0,
      "outputs": [
        {
          "output_type": "stream",
          "text": [
            "[45, 66, 9, 31, 67, 88, 34, 1, 42, 84, 2, 200, 16, 4, 1, 0, 9.45, 45.67, 90, 12.01, 12.02]\n"
          ],
          "name": "stdout"
        }
      ]
    },
    {
      "metadata": {
        "id": "5ibWtSQxFFk9",
        "colab_type": "text"
      },
      "cell_type": "markdown",
      "source": [
        "5) Create a dictionary named dummy_dict which contains all the elements of dummy_list as keys and frequency as values."
      ]
    },
    {
      "metadata": {
        "id": "6NVMNBL9FJSW",
        "colab_type": "code",
        "colab": {}
      },
      "cell_type": "code",
      "source": [
        "\n",
        "dummy_dict = {x:dummy_list.count(x) for x in dummy_list}"
      ],
      "execution_count": 0,
      "outputs": []
    },
    {
      "metadata": {
        "id": "qbPeqbC0FPqV",
        "colab_type": "text"
      },
      "cell_type": "markdown",
      "source": [
        "6) print dummy_dict"
      ]
    },
    {
      "metadata": {
        "id": "EE-3hHjLFTyN",
        "colab_type": "code",
        "colab": {
          "base_uri": "https://localhost:8080/",
          "height": 34
        },
        "outputId": "b196492d-21e9-4630-c5b4-e5d2e8d40f05"
      },
      "cell_type": "code",
      "source": [
        "\n",
        "dummy_dict = {x:dummy_list.count(x) for x in dummy_list}\n",
        "\n",
        "print(dummy_dict)"
      ],
      "execution_count": 0,
      "outputs": [
        {
          "output_type": "stream",
          "text": [
            "{45: 1, 66: 1, 9: 1, 31: 1, 67: 1, 88: 1, 34: 1, 1: 2, 42: 1, 84: 1, 2: 1, 200: 1, 16: 1, 4: 1, 0: 1, 9.45: 1, 45.67: 1, 90: 1, 12.01: 1, 12.02: 1}\n"
          ],
          "name": "stdout"
        }
      ]
    },
    {
      "metadata": {
        "id": "FNHzzb4fFUwe",
        "colab_type": "text"
      },
      "cell_type": "markdown",
      "source": [
        "7) Sort dummy_list in ascending order as well as descending order and print the changed lists"
      ]
    },
    {
      "metadata": {
        "id": "uSSfj3koFXQ-",
        "colab_type": "code",
        "colab": {
          "base_uri": "https://localhost:8080/",
          "height": 51
        },
        "outputId": "c4917937-bd31-4b11-9acb-d7380d490366"
      },
      "cell_type": "code",
      "source": [
        "\n",
        "dummy_list.sort()\n",
        "print(dummy_list)\n",
        "dummy_list.reverse()\n",
        "print(dummy_list)"
      ],
      "execution_count": 0,
      "outputs": [
        {
          "output_type": "stream",
          "text": [
            "[0, 1, 1, 2, 4, 9, 9.45, 12.01, 12.02, 16, 31, 34, 42, 45, 45.67, 66, 67, 84, 88, 90, 200]\n",
            "[200, 90, 88, 84, 67, 66, 45.67, 45, 42, 34, 31, 16, 12.02, 12.01, 9.45, 9, 4, 2, 1, 1, 0]\n"
          ],
          "name": "stdout"
        }
      ]
    },
    {
      "metadata": {
        "id": "ZJLrICIsFYRN",
        "colab_type": "text"
      },
      "cell_type": "markdown",
      "source": [
        "8) Remove the first item from the list whose value is equal to x. It raises a ValueError if there is no such item."
      ]
    },
    {
      "metadata": {
        "id": "mC5Z3vpzFatc",
        "colab_type": "code",
        "colab": {
          "base_uri": "https://localhost:8080/",
          "height": 197
        },
        "outputId": "3d55f2df-4f62-48c3-a64c-0bad86448c3a"
      },
      "cell_type": "code",
      "source": [
        "\n",
        "x = 200\n",
        "dummy_list.remove(x)"
      ],
      "execution_count": 0,
      "outputs": [
        {
          "output_type": "error",
          "ename": "ValueError",
          "evalue": "ignored",
          "traceback": [
            "\u001b[0;31m---------------------------------------------------------------------------\u001b[0m",
            "\u001b[0;31mValueError\u001b[0m                                Traceback (most recent call last)",
            "\u001b[0;32m<ipython-input-9-971821ec5d60>\u001b[0m in \u001b[0;36m<module>\u001b[0;34m()\u001b[0m\n\u001b[1;32m      1\u001b[0m \u001b[0;34m\u001b[0m\u001b[0m\n\u001b[1;32m      2\u001b[0m \u001b[0mx\u001b[0m \u001b[0;34m=\u001b[0m \u001b[0;36m200\u001b[0m\u001b[0;34m\u001b[0m\u001b[0m\n\u001b[0;32m----> 3\u001b[0;31m \u001b[0mdummy_list\u001b[0m\u001b[0;34m.\u001b[0m\u001b[0mremove\u001b[0m\u001b[0;34m(\u001b[0m\u001b[0mx\u001b[0m\u001b[0;34m)\u001b[0m\u001b[0;34m\u001b[0m\u001b[0m\n\u001b[0m",
            "\u001b[0;31mValueError\u001b[0m: list.remove(x): x not in list"
          ]
        }
      ]
    },
    {
      "metadata": {
        "id": "vY0CVxioFa8m",
        "colab_type": "text"
      },
      "cell_type": "markdown",
      "source": [
        "9) Remove the item at position x. x is any random integer"
      ]
    },
    {
      "metadata": {
        "id": "VKrRihlRFdYd",
        "colab_type": "code",
        "colab": {
          "base_uri": "https://localhost:8080/",
          "height": 34
        },
        "outputId": "9dc8af8f-fa00-41b1-ddc2-c5c9b6ecdd73"
      },
      "cell_type": "code",
      "source": [
        "# Let's play: try doing the same with x > len(dummy_list) + 1 and see what you get\n",
        "\n",
        "x = random.randint(0, len(dummy_list))\n",
        "dummy_list.pop(x)"
      ],
      "execution_count": 0,
      "outputs": [
        {
          "output_type": "execute_result",
          "data": {
            "text/plain": [
              "1"
            ]
          },
          "metadata": {
            "tags": []
          },
          "execution_count": 10
        }
      ]
    },
    {
      "metadata": {
        "id": "IPoLSu2qFdhN",
        "colab_type": "text"
      },
      "cell_type": "markdown",
      "source": [
        "10) Let's clean everything clear the list and then print"
      ]
    },
    {
      "metadata": {
        "id": "WMmFf5yrFfjV",
        "colab_type": "code",
        "colab": {
          "base_uri": "https://localhost:8080/",
          "height": 51
        },
        "outputId": "625079e7-3f07-4436-9690-804de66330ab"
      },
      "cell_type": "code",
      "source": [
        "\n",
        "del dummy_list[:]\n",
        "del dummy_list_2[:]\n",
        "print(dummy_list)\n",
        "print(dummy_list_2)"
      ],
      "execution_count": 0,
      "outputs": [
        {
          "output_type": "stream",
          "text": [
            "[]\n",
            "[]\n"
          ],
          "name": "stdout"
        }
      ]
    },
    {
      "metadata": {
        "id": "3QVjTDJyeCrW",
        "colab_type": "text"
      },
      "cell_type": "markdown",
      "source": [
        "# 2. Numpy Examples "
      ]
    },
    {
      "metadata": {
        "id": "M4J2025beKyL",
        "colab_type": "text"
      },
      "cell_type": "markdown",
      "source": [
        "Uncomment Print statement and run each cell to see the output\n",
        "Create numpy arrays"
      ]
    },
    {
      "metadata": {
        "id": "tjiEhPCSfKLq",
        "colab_type": "text"
      },
      "cell_type": "markdown",
      "source": [
        "**What is numpy?**\n",
        "\n",
        "**Python has built-in:**\n",
        "\n",
        "containers: lists (costless insertion and append), dictionnaries (fast lookup)\n",
        "high-level number objects: integers, floating point\n",
        "\n",
        "**Numpy is:**\n",
        "\n",
        "extension package to Python for multidimensional arrays\n",
        "closer to hardware (efficiency)\n",
        "designed for scientific computation (convenience)\n",
        "\n",
        "**Import numpy**"
      ]
    },
    {
      "metadata": {
        "id": "RGUTLBNQfXTA",
        "colab_type": "code",
        "colab": {}
      },
      "cell_type": "code",
      "source": [
        "import numpy as np"
      ],
      "execution_count": 0,
      "outputs": []
    },
    {
      "metadata": {
        "id": "hnf9NpIJeQ_Q",
        "colab_type": "code",
        "colab": {
          "base_uri": "https://localhost:8080/",
          "height": 34
        },
        "outputId": "694ab65d-2ddd-4400-f75f-dfd63738dbbe"
      },
      "cell_type": "code",
      "source": [
        "a = np.array([1, 2, 3])   # Create a rank 1 array\n",
        "print(a)\n",
        "print(type(a)) #print type of a\n",
        "\n",
        "b = np.array([[1,2,3],[4,5,6]])    # Create a rank 2 array\n",
        "print(b.shape)                     # Prints \"(2, 3)\"\n",
        "print(b[0, 0], b[0, 1], b[1, 0])"
      ],
      "execution_count": 0,
      "outputs": [
        {
          "output_type": "stream",
          "text": [
            "1 2 4\n"
          ],
          "name": "stdout"
        }
      ]
    },
    {
      "metadata": {
        "id": "ccqFXcHNeTvn",
        "colab_type": "text"
      },
      "cell_type": "markdown",
      "source": [
        "Some basic functions for creating arrays. Print all the defined arrays and see the results."
      ]
    },
    {
      "metadata": {
        "id": "Gbr_fHVbeW5I",
        "colab_type": "code",
        "colab": {
          "base_uri": "https://localhost:8080/",
          "height": 221
        },
        "outputId": "4e95b2c0-da61-400a-9632-e2fddc16932a"
      },
      "cell_type": "code",
      "source": [
        "a = np.zeros(shape=(2,2))\n",
        "b = np.ones(shape = (3,3))\n",
        "c = np.eye(2)\n",
        "d = np.full(shape=(3,3), fill_value=5)\n",
        "e = np.random.random((2,2))\n",
        "\n",
        "print('a', a)\n",
        "print('b',b)\n",
        "print('c',c)\n",
        "print('d',d)\n",
        "print('e',e)"
      ],
      "execution_count": 0,
      "outputs": [
        {
          "output_type": "stream",
          "text": [
            "a [[0. 0.]\n",
            " [0. 0.]]\n",
            "b [[1. 1. 1.]\n",
            " [1. 1. 1.]\n",
            " [1. 1. 1.]]\n",
            "c [[1. 0.]\n",
            " [0. 1.]]\n",
            "d [[5 5 5]\n",
            " [5 5 5]\n",
            " [5 5 5]]\n",
            "e [[0.99650477 0.29104644]\n",
            " [0.45583893 0.64548282]]\n"
          ],
          "name": "stdout"
        }
      ]
    },
    {
      "metadata": {
        "id": "nOxhmkngea4g",
        "colab_type": "text"
      },
      "cell_type": "markdown",
      "source": [
        "Execute and understand :)"
      ]
    },
    {
      "metadata": {
        "id": "MP80FFu-ef9Q",
        "colab_type": "code",
        "colab": {
          "base_uri": "https://localhost:8080/",
          "height": 51
        },
        "outputId": "0b4d925a-cf00-4d61-ca57-4acf50fb6195"
      },
      "cell_type": "code",
      "source": [
        "a  =  np.arange(10)\n",
        "b  =  np.linspace(0,10, num=6)\n",
        "print(a)\n",
        "print(b)"
      ],
      "execution_count": 0,
      "outputs": [
        {
          "output_type": "stream",
          "text": [
            "[0 1 2 3 4 5 6 7 8 9]\n",
            "[ 0.  2.  4.  6.  8. 10.]\n"
          ],
          "name": "stdout"
        }
      ]
    },
    {
      "metadata": {
        "id": "ma5VviRfeir4",
        "colab_type": "text"
      },
      "cell_type": "markdown",
      "source": [
        "Array Indexing"
      ]
    },
    {
      "metadata": {
        "id": "5AuO-gZDek9I",
        "colab_type": "code",
        "colab": {
          "base_uri": "https://localhost:8080/",
          "height": 51
        },
        "outputId": "f6497c47-c898-4be1-8672-e6691d0fbd65"
      },
      "cell_type": "code",
      "source": [
        "a = np.array([[1,2,3,4], [5,6,7,8], [9,10,11,12]])\n",
        "\n",
        "# Use slicing to pull out the subarray consisting of the first 2 rows\n",
        "# and columns 1 and 2; b is the following array of shape (2, 2):\n",
        "# [[2 3]\n",
        "#  [6 7]]\n",
        "b = a[:2, 1:3]\n",
        "\n",
        "# A slice of an array is a view into the same data, so modifying it\n",
        "# will modify the original array.\n",
        "\n",
        "print(a[0, 1])   # Prints \"2\"\n",
        "\n",
        "b[0, 0] = 77     # b[0, 0] is the same piece of data as a[0, 1]\n",
        "print(a[0, 1])   # Prints \"77\""
      ],
      "execution_count": 0,
      "outputs": [
        {
          "output_type": "stream",
          "text": [
            "2\n",
            "77\n"
          ],
          "name": "stdout"
        }
      ]
    },
    {
      "metadata": {
        "id": "9CFUpUCnenTQ",
        "colab_type": "text"
      },
      "cell_type": "markdown",
      "source": [
        "Slicing"
      ]
    },
    {
      "metadata": {
        "id": "x1EgK1RXepnR",
        "colab_type": "code",
        "colab": {
          "base_uri": "https://localhost:8080/",
          "height": 119
        },
        "outputId": "7f0062fb-3671-45e5-de5f-24d8ee78a13b"
      },
      "cell_type": "code",
      "source": [
        "a = np.array([[1,2,3,4], [5,6,7,8], [9,10,11,12]])\n",
        "\n",
        "row_r1 = a[1, :]    # Rank 1 view of the second row of a\n",
        "row_r2 = a[1:2, :]  # Rank 2 view of the second row of a\n",
        "\n",
        "print(row_r1, row_r1.shape)  # Prints \"[5 6 7 8] (4,)\"\n",
        "print(row_r2, row_r2.shape)  # Prints \"[[5 6 7 8]] (1, 4)\"\n",
        "\n",
        "col_r1 = a[:, 1]\n",
        "col_r2 = a[:, 1:2]\n",
        "\n",
        "print(col_r1, col_r1.shape)  # Prints \"[ 2  6 10] (3,)\"\n",
        "print(col_r2, col_r2.shape)"
      ],
      "execution_count": 0,
      "outputs": [
        {
          "output_type": "stream",
          "text": [
            "[5 6 7 8] (4,)\n",
            "[[5 6 7 8]] (1, 4)\n",
            "[ 2  6 10] (3,)\n",
            "[[ 2]\n",
            " [ 6]\n",
            " [10]] (3, 1)\n"
          ],
          "name": "stdout"
        }
      ]
    },
    {
      "metadata": {
        "id": "_WTQy_bgesFA",
        "colab_type": "text"
      },
      "cell_type": "markdown",
      "source": [
        "Aritmetic operations"
      ]
    },
    {
      "metadata": {
        "id": "O2HGK5rYeu0s",
        "colab_type": "code",
        "colab": {
          "base_uri": "https://localhost:8080/",
          "height": 68
        },
        "outputId": "d26d960b-c6d4-4538-e9b3-1e0e8a89fb31"
      },
      "cell_type": "code",
      "source": [
        "x = np.array([[1,2],[3,4]])\n",
        "\n",
        "print(np.sum(x))  # Compute sum of all elements; prints \"10\"\n",
        "print(np.sum(x, axis=0))  # Compute sum of each column; prints \"[4 6]\"\n",
        "print(np.sum(x, axis=1))  # Compute sum of each row; prints \"[3 7]\""
      ],
      "execution_count": 0,
      "outputs": [
        {
          "output_type": "stream",
          "text": [
            "10\n",
            "[4 6]\n",
            "[3 7]\n"
          ],
          "name": "stdout"
        }
      ]
    },
    {
      "metadata": {
        "id": "0jVL-B9jexDA",
        "colab_type": "text"
      },
      "cell_type": "markdown",
      "source": [
        "Using Boolean Mask"
      ]
    },
    {
      "metadata": {
        "id": "2GVDLsn7ezTQ",
        "colab_type": "code",
        "colab": {
          "base_uri": "https://localhost:8080/",
          "height": 68
        },
        "outputId": "1bfb7183-f8bb-4724-ee1f-5bd2aa97623b"
      },
      "cell_type": "code",
      "source": [
        "b = np.arange(10)\n",
        "\n",
        "print(b)\n",
        "\n",
        "mask = b%2!=0 #perform computations on the list \n",
        "\n",
        "print(mask)\n",
        "\n",
        "print(b[mask]) #applying the mask on the numpy array\n"
      ],
      "execution_count": 0,
      "outputs": [
        {
          "output_type": "stream",
          "text": [
            "[0 1 2 3 4 5 6 7 8 9]\n",
            "[False  True False  True False  True False  True False  True]\n",
            "[1 3 5 7 9]\n"
          ],
          "name": "stdout"
        }
      ]
    },
    {
      "metadata": {
        "id": "VbnfHVBMe31P",
        "colab_type": "code",
        "colab": {
          "base_uri": "https://localhost:8080/",
          "height": 34
        },
        "outputId": "881c8c7c-7091-4619-c5ea-828aca6f2846"
      },
      "cell_type": "code",
      "source": [
        "modified_b = b\n",
        "modified_b[mask] = -1\n",
        "\n",
        "print(modified_b)"
      ],
      "execution_count": 0,
      "outputs": [
        {
          "output_type": "stream",
          "text": [
            "[ 0 -1  2 -1  4 -1  6 -1  8 -1]\n"
          ],
          "name": "stdout"
        }
      ]
    },
    {
      "metadata": {
        "id": "SDSUSK8Pe53I",
        "colab_type": "text"
      },
      "cell_type": "markdown",
      "source": [
        "Swapping two columns in a 2d numpy array"
      ]
    },
    {
      "metadata": {
        "id": "IKVuZYtoe8q8",
        "colab_type": "code",
        "colab": {
          "base_uri": "https://localhost:8080/",
          "height": 119
        },
        "outputId": "97e0dd32-06ac-4885-fe33-af03ec22c471"
      },
      "cell_type": "code",
      "source": [
        "a = np.arange(9).reshape(3,3)\n",
        "print(a)\n",
        "\n",
        "print(a[:, [1,0,2]])"
      ],
      "execution_count": 0,
      "outputs": [
        {
          "output_type": "stream",
          "text": [
            "[[0 1 2]\n",
            " [3 4 5]\n",
            " [6 7 8]]\n",
            "[[1 0 2]\n",
            " [4 3 5]\n",
            " [7 6 8]]\n"
          ],
          "name": "stdout"
        }
      ]
    },
    {
      "metadata": {
        "id": "IfcCFUUxfAvH",
        "colab_type": "text"
      },
      "cell_type": "markdown",
      "source": [
        "Swapping two rows in a 2d numpy array"
      ]
    },
    {
      "metadata": {
        "id": "tTNzSQXPfC0I",
        "colab_type": "code",
        "colab": {
          "base_uri": "https://localhost:8080/",
          "height": 119
        },
        "outputId": "2a250654-e2af-468d-e952-4140bccd26aa"
      },
      "cell_type": "code",
      "source": [
        "a = np.arange(9).reshape(3,3)\n",
        "print(a)\n",
        "\n",
        "print(a[[1,0,2], :])"
      ],
      "execution_count": 0,
      "outputs": [
        {
          "output_type": "stream",
          "text": [
            "[[0 1 2]\n",
            " [3 4 5]\n",
            " [6 7 8]]\n",
            "[[3 4 5]\n",
            " [0 1 2]\n",
            " [6 7 8]]\n"
          ],
          "name": "stdout"
        }
      ]
    },
    {
      "metadata": {
        "id": "dwXsPEhp-jDQ",
        "colab_type": "text"
      },
      "cell_type": "markdown",
      "source": [
        "# 3. Numpy Exercises\n"
      ]
    },
    {
      "metadata": {
        "id": "l1NoWqh8-0v3",
        "colab_type": "text"
      },
      "cell_type": "markdown",
      "source": [
        "1) Create a uniform subdivision of the interval -1.3 to 2.5 with 64 subdivisions"
      ]
    },
    {
      "metadata": {
        "id": "YHBtDQbZ-3n_",
        "colab_type": "code",
        "colab": {
          "base_uri": "https://localhost:8080/",
          "height": 204
        },
        "outputId": "8360622b-912e-4b92-d921-a93663a6618f"
      },
      "cell_type": "code",
      "source": [
        "\n",
        "import numpy as np\n",
        "a = np.linspace(-1.3, 2.5, num = 64)\n",
        "print(a)"
      ],
      "execution_count": 0,
      "outputs": [
        {
          "output_type": "stream",
          "text": [
            "[-1.3        -1.23968254 -1.17936508 -1.11904762 -1.05873016 -0.9984127\n",
            " -0.93809524 -0.87777778 -0.81746032 -0.75714286 -0.6968254  -0.63650794\n",
            " -0.57619048 -0.51587302 -0.45555556 -0.3952381  -0.33492063 -0.27460317\n",
            " -0.21428571 -0.15396825 -0.09365079 -0.03333333  0.02698413  0.08730159\n",
            "  0.14761905  0.20793651  0.26825397  0.32857143  0.38888889  0.44920635\n",
            "  0.50952381  0.56984127  0.63015873  0.69047619  0.75079365  0.81111111\n",
            "  0.87142857  0.93174603  0.99206349  1.05238095  1.11269841  1.17301587\n",
            "  1.23333333  1.29365079  1.35396825  1.41428571  1.47460317  1.53492063\n",
            "  1.5952381   1.65555556  1.71587302  1.77619048  1.83650794  1.8968254\n",
            "  1.95714286  2.01746032  2.07777778  2.13809524  2.1984127   2.25873016\n",
            "  2.31904762  2.37936508  2.43968254  2.5       ]\n"
          ],
          "name": "stdout"
        }
      ]
    },
    {
      "metadata": {
        "id": "eNRZ8iHZ-4WL",
        "colab_type": "text"
      },
      "cell_type": "markdown",
      "source": [
        "2) Generate an array of length 3n filled with the cyclic pattern 1, 2, 3"
      ]
    },
    {
      "metadata": {
        "id": "mcO7cHAO-7hJ",
        "colab_type": "code",
        "colab": {
          "base_uri": "https://localhost:8080/",
          "height": 51
        },
        "outputId": "765ab9fb-1031-4df1-af45-817a5e050ec6"
      },
      "cell_type": "code",
      "source": [
        "\n",
        "x = np.array([1, 2, 3])\n",
        "n = int(input(\"Enter value of n\"))\n",
        "x =np.resize(x, (3*n))\n",
        "print(x)"
      ],
      "execution_count": 0,
      "outputs": [
        {
          "output_type": "stream",
          "text": [
            "Enter value of n3\n",
            "[1 2 3 1 2 3 1 2 3]\n"
          ],
          "name": "stdout"
        }
      ]
    },
    {
      "metadata": {
        "id": "NuYJ_nxc-7t6",
        "colab_type": "text"
      },
      "cell_type": "markdown",
      "source": [
        "3) Create an array of the first 10 odd integers."
      ]
    },
    {
      "metadata": {
        "id": "Yupu4rJY--jH",
        "colab_type": "code",
        "colab": {
          "base_uri": "https://localhost:8080/",
          "height": 34
        },
        "outputId": "22c90e85-88b6-4afc-deee-f7c72dc9e990"
      },
      "cell_type": "code",
      "source": [
        "\n",
        "\n",
        "b = np.arange(20)\n",
        "mask = b%2!=0\n",
        "b = b[mask]\n",
        "print(b)"
      ],
      "execution_count": 0,
      "outputs": [
        {
          "output_type": "stream",
          "text": [
            "[ 1  3  5  7  9 11 13 15 17 19]\n"
          ],
          "name": "stdout"
        }
      ]
    },
    {
      "metadata": {
        "id": "D3nc0TrP_A9X",
        "colab_type": "text"
      },
      "cell_type": "markdown",
      "source": [
        "4) Find intersection of a and b"
      ]
    },
    {
      "metadata": {
        "id": "AbqIsrvx_CKx",
        "colab_type": "code",
        "colab": {
          "base_uri": "https://localhost:8080/",
          "height": 34
        },
        "outputId": "c02d766d-54ee-4e95-87c2-7f909e3afcb4"
      },
      "cell_type": "code",
      "source": [
        "\n",
        "a = np.array([1,2,3,2,3,4,3,4,5,6])\n",
        "b = np.array([7,2,10,2,7,4,9,4,9,8])\n",
        "inter = []\n",
        "n = 0\n",
        "for i in range(len(a)):\n",
        "  for j in range(len(b)):\n",
        "    if(a[i] == b[j]):\n",
        "      for k in range(len(inter)):\n",
        "        if(a[i] == inter[k]):\n",
        "          n = n + 1\n",
        "      if(n == 0):\n",
        "          inter.append(a[i]) \n",
        "      n = 0\n",
        "print(inter)"
      ],
      "execution_count": 0,
      "outputs": [
        {
          "output_type": "stream",
          "text": [
            "[2, 4]\n"
          ],
          "name": "stdout"
        }
      ]
    },
    {
      "metadata": {
        "id": "-0OA1mwP_CWX",
        "colab_type": "text"
      },
      "cell_type": "markdown",
      "source": [
        "5) Reshape 1d array a to 2d array of 2X5"
      ]
    },
    {
      "metadata": {
        "id": "p398Gtft_E0f",
        "colab_type": "code",
        "colab": {
          "base_uri": "https://localhost:8080/",
          "height": 51
        },
        "outputId": "18db5e4c-d768-4e09-b393-88f52424bb88"
      },
      "cell_type": "code",
      "source": [
        "\n",
        "a = np.arange(10)\n",
        "b = np.reshape(a, (2, 5))\n",
        "print(b)"
      ],
      "execution_count": 0,
      "outputs": [
        {
          "output_type": "stream",
          "text": [
            "[[0 1 2 3 4]\n",
            " [5 6 7 8 9]]\n"
          ],
          "name": "stdout"
        }
      ]
    },
    {
      "metadata": {
        "id": "GvcuDD5s_FSX",
        "colab_type": "text"
      },
      "cell_type": "markdown",
      "source": [
        "6) Create a numpy array to list and vice versa"
      ]
    },
    {
      "metadata": {
        "id": "cwoWWBts_ICP",
        "colab_type": "code",
        "colab": {
          "base_uri": "https://localhost:8080/",
          "height": 51
        },
        "outputId": "d110d97b-e7e8-4ba6-af8a-56f989164ac4"
      },
      "cell_type": "code",
      "source": [
        "\n",
        "a = [1, 2, 3, 4, 5, 6, 7, 8, 9]\n",
        "a = np.asarray(a)\n",
        "print(a)\n",
        "a = a.tolist()\n",
        "print(a)"
      ],
      "execution_count": 0,
      "outputs": [
        {
          "output_type": "stream",
          "text": [
            "[1 2 3 4 5 6 7 8 9]\n",
            "[1, 2, 3, 4, 5, 6, 7, 8, 9]\n"
          ],
          "name": "stdout"
        }
      ]
    },
    {
      "metadata": {
        "id": "sIu5d5EJ_KVP",
        "colab_type": "text"
      },
      "cell_type": "markdown",
      "source": [
        "7) Create a 10 x 10 arrays of zeros and then \"frame\" it with a border of ones."
      ]
    },
    {
      "metadata": {
        "id": "qp8vnM6Z_LCX",
        "colab_type": "code",
        "colab": {
          "base_uri": "https://localhost:8080/",
          "height": 357
        },
        "outputId": "df43ba0d-54e7-461e-f1a8-ccb3c6e49fe2"
      },
      "cell_type": "code",
      "source": [
        "\n",
        "a = np.zeros(shape=(10,10))\n",
        "print(a)\n",
        "a[0, 0:10] = 1\n",
        "a[9, 0:10] = 1\n",
        "a[0:10, 9] = 1\n",
        "a[0:10, 0] = 1\n",
        "print(a)"
      ],
      "execution_count": 0,
      "outputs": [
        {
          "output_type": "stream",
          "text": [
            "[[0. 0. 0. 0. 0. 0. 0. 0. 0. 0.]\n",
            " [0. 0. 0. 0. 0. 0. 0. 0. 0. 0.]\n",
            " [0. 0. 0. 0. 0. 0. 0. 0. 0. 0.]\n",
            " [0. 0. 0. 0. 0. 0. 0. 0. 0. 0.]\n",
            " [0. 0. 0. 0. 0. 0. 0. 0. 0. 0.]\n",
            " [0. 0. 0. 0. 0. 0. 0. 0. 0. 0.]\n",
            " [0. 0. 0. 0. 0. 0. 0. 0. 0. 0.]\n",
            " [0. 0. 0. 0. 0. 0. 0. 0. 0. 0.]\n",
            " [0. 0. 0. 0. 0. 0. 0. 0. 0. 0.]\n",
            " [0. 0. 0. 0. 0. 0. 0. 0. 0. 0.]]\n",
            "[[1. 1. 1. 1. 1. 1. 1. 1. 1. 1.]\n",
            " [1. 0. 0. 0. 0. 0. 0. 0. 0. 1.]\n",
            " [1. 0. 0. 0. 0. 0. 0. 0. 0. 1.]\n",
            " [1. 0. 0. 0. 0. 0. 0. 0. 0. 1.]\n",
            " [1. 0. 0. 0. 0. 0. 0. 0. 0. 1.]\n",
            " [1. 0. 0. 0. 0. 0. 0. 0. 0. 1.]\n",
            " [1. 0. 0. 0. 0. 0. 0. 0. 0. 1.]\n",
            " [1. 0. 0. 0. 0. 0. 0. 0. 0. 1.]\n",
            " [1. 0. 0. 0. 0. 0. 0. 0. 0. 1.]\n",
            " [1. 1. 1. 1. 1. 1. 1. 1. 1. 1.]]\n"
          ],
          "name": "stdout"
        }
      ]
    },
    {
      "metadata": {
        "id": "Zdg5ex-0_Mnj",
        "colab_type": "text"
      },
      "cell_type": "markdown",
      "source": [
        "8) Create an 8 x 8 array with a checkerboard pattern of zeros and ones using a slicing+striding approach."
      ]
    },
    {
      "metadata": {
        "id": "cCG2Z2A0_NRr",
        "colab_type": "code",
        "colab": {
          "base_uri": "https://localhost:8080/",
          "height": 153
        },
        "outputId": "e05c498b-e674-466b-a36d-7431c66e7d14"
      },
      "cell_type": "code",
      "source": [
        "\n",
        "a = np.zeros(shape=(8, 8)) \n",
        "a[1::2, ::2] = 1\n",
        "a[::2, 1::2] = 1\n",
        "print(a)"
      ],
      "execution_count": 0,
      "outputs": [
        {
          "output_type": "stream",
          "text": [
            "[[0. 1. 0. 1. 0. 1. 0. 1.]\n",
            " [1. 0. 1. 0. 1. 0. 1. 0.]\n",
            " [0. 1. 0. 1. 0. 1. 0. 1.]\n",
            " [1. 0. 1. 0. 1. 0. 1. 0.]\n",
            " [0. 1. 0. 1. 0. 1. 0. 1.]\n",
            " [1. 0. 1. 0. 1. 0. 1. 0.]\n",
            " [0. 1. 0. 1. 0. 1. 0. 1.]\n",
            " [1. 0. 1. 0. 1. 0. 1. 0.]]\n"
          ],
          "name": "stdout"
        }
      ]
    },
    {
      "metadata": {
        "id": "mKdIZCPqf2JZ",
        "colab_type": "text"
      },
      "cell_type": "markdown",
      "source": [
        "**Solve a bonus question for getting this pull request merged.**\n",
        "\n",
        "Create a 2d array of dimension 10x10 and then swap even rows with odd rows."
      ]
    },
    {
      "metadata": {
        "id": "NmBqM51TgGu6",
        "colab_type": "code",
        "colab": {
          "base_uri": "https://localhost:8080/",
          "height": 391
        },
        "outputId": "2c97ad86-819b-46ba-c086-579efa14563b"
      },
      "cell_type": "code",
      "source": [
        "import numpy as np\n",
        "\n",
        "arr = np.arange(100).reshape(10,10)\n",
        "print(arr)\n",
        "\n",
        "print(\"\\n\")\n",
        "\n",
        "n = 0\n",
        "\n",
        "while(n<9) :\n",
        "    arr[[n,n+1]] = arr[[n+1,n]]\n",
        "    n = n+2\n",
        "\n",
        "print(arr)"
      ],
      "execution_count": 0,
      "outputs": [
        {
          "output_type": "stream",
          "text": [
            "[[ 0  1  2  3  4  5  6  7  8  9]\n",
            " [10 11 12 13 14 15 16 17 18 19]\n",
            " [20 21 22 23 24 25 26 27 28 29]\n",
            " [30 31 32 33 34 35 36 37 38 39]\n",
            " [40 41 42 43 44 45 46 47 48 49]\n",
            " [50 51 52 53 54 55 56 57 58 59]\n",
            " [60 61 62 63 64 65 66 67 68 69]\n",
            " [70 71 72 73 74 75 76 77 78 79]\n",
            " [80 81 82 83 84 85 86 87 88 89]\n",
            " [90 91 92 93 94 95 96 97 98 99]]\n",
            "\n",
            "\n",
            "[[10 11 12 13 14 15 16 17 18 19]\n",
            " [ 0  1  2  3  4  5  6  7  8  9]\n",
            " [30 31 32 33 34 35 36 37 38 39]\n",
            " [20 21 22 23 24 25 26 27 28 29]\n",
            " [50 51 52 53 54 55 56 57 58 59]\n",
            " [40 41 42 43 44 45 46 47 48 49]\n",
            " [70 71 72 73 74 75 76 77 78 79]\n",
            " [60 61 62 63 64 65 66 67 68 69]\n",
            " [90 91 92 93 94 95 96 97 98 99]\n",
            " [80 81 82 83 84 85 86 87 88 89]]\n"
          ],
          "name": "stdout"
        }
      ]
    }
  ]
}