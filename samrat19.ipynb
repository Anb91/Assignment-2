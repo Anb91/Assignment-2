{
  "nbformat": 4,
  "nbformat_minor": 0,
  "metadata": {
    "colab": {
      "name": "samrat19.ipynb",
      "version": "0.3.2",
      "provenance": [],
      "include_colab_link": true
    },
    "kernelspec": {
      "display_name": "Python 3",
      "language": "python",
      "name": "python3"
    }
  },
  "cells": [
    {
      "cell_type": "markdown",
      "metadata": {
        "id": "view-in-github",
        "colab_type": "text"
      },
      "source": [
        "[View in Colaboratory](https://colab.research.google.com/github/samrat19/Assignment-2/blob/samrat19/samrat19.ipynb)"
      ]
    },
    {
      "metadata": {
        "id": "jqLuehlsEeTb",
        "colab_type": "text"
      },
      "cell_type": "markdown",
      "source": [
        "#1. List.ipynb"
      ]
    },
    {
      "metadata": {
        "id": "Gc3l52AiE0gN",
        "colab_type": "text"
      },
      "cell_type": "markdown",
      "source": [
        "\n",
        "\n",
        "```\n",
        "1) Create any random list and assign it to a variable dummy_list"
      ]
    },
    {
      "metadata": {
        "id": "QgErAq9jER0F",
        "colab_type": "code",
        "colab": {}
      },
      "cell_type": "code",
      "source": [
        "\n",
        "import random\n",
        "dummy_list = [random.randrange(1, 100) for i in range(0, 10)]"
      ],
      "execution_count": 0,
      "outputs": []
    },
    {
      "metadata": {
        "id": "DSP_DfUgE7_F",
        "colab_type": "text"
      },
      "cell_type": "markdown",
      "source": [
        "2) print dummy_list"
      ]
    },
    {
      "metadata": {
        "id": "Y5m9coOfE_lu",
        "colab_type": "code",
        "colab": {
          "base_uri": "https://localhost:8080/",
          "height": 34
        },
        "outputId": "99fbdc60-164b-4d9b-c2dd-223e374cb76a"
      },
      "cell_type": "code",
      "source": [
        "\n",
        "print(dummy_list)"
      ],
      "execution_count": 2,
      "outputs": [
        {
          "output_type": "stream",
          "text": [
            "[84, 42, 1, 34, 88, 67, 31, 9, 66, 45]\n"
          ],
          "name": "stdout"
        }
      ]
    },
    {
      "metadata": {
        "id": "njRL4JXdFANF",
        "colab_type": "text"
      },
      "cell_type": "markdown",
      "source": [
        "3) Reverse dummy_list and print"
      ]
    },
    {
      "metadata": {
        "id": "6O5O4IN9FCR9",
        "colab_type": "code",
        "colab": {
          "base_uri": "https://localhost:8080/",
          "height": 34
        },
        "outputId": "c955d224-7111-4877-d379-318eca4cde9d"
      },
      "cell_type": "code",
      "source": [
        "\n",
        "dummy_list.reverse()\n",
        "print(dummy_list)"
      ],
      "execution_count": 3,
      "outputs": [
        {
          "output_type": "stream",
          "text": [
            "[45, 66, 9, 31, 67, 88, 34, 1, 42, 84]\n"
          ],
          "name": "stdout"
        }
      ]
    },
    {
      "metadata": {
        "id": "wBl1b5m7FCl1",
        "colab_type": "text"
      },
      "cell_type": "markdown",
      "source": [
        "4) Add the list dummy_list_2 to the previous dummy_list and now print dummy_list"
      ]
    },
    {
      "metadata": {
        "id": "BKaKOriCFEue",
        "colab_type": "code",
        "colab": {
          "base_uri": "https://localhost:8080/",
          "height": 34
        },
        "outputId": "76adcb12-9840-4dee-ff6e-735fb0709b71"
      },
      "cell_type": "code",
      "source": [
        "\n",
        "dummy_list_2 = [2, 200, 16, 4, 1, 0, 9.45, 45.67, 90, 12.01, 12.02]\n",
        "dummy_list = dummy_list + dummy_list_2\n",
        "print(dummy_list)\n"
      ],
      "execution_count": 4,
      "outputs": [
        {
          "output_type": "stream",
          "text": [
            "[45, 66, 9, 31, 67, 88, 34, 1, 42, 84, 2, 200, 16, 4, 1, 0, 9.45, 45.67, 90, 12.01, 12.02]\n"
          ],
          "name": "stdout"
        }
      ]
    },
    {
      "metadata": {
        "id": "5ibWtSQxFFk9",
        "colab_type": "text"
      },
      "cell_type": "markdown",
      "source": [
        "5) Create a dictionary named dummy_dict which contains all the elements of dummy_list as keys and frequency as values."
      ]
    },
    {
      "metadata": {
        "id": "6NVMNBL9FJSW",
        "colab_type": "code",
        "colab": {}
      },
      "cell_type": "code",
      "source": [
        "\n",
        "dummy_dict = {x:dummy_list.count(x) for x in dummy_list}"
      ],
      "execution_count": 0,
      "outputs": []
    },
    {
      "metadata": {
        "id": "qbPeqbC0FPqV",
        "colab_type": "text"
      },
      "cell_type": "markdown",
      "source": [
        "6) print dummy_dict"
      ]
    },
    {
      "metadata": {
        "id": "EE-3hHjLFTyN",
        "colab_type": "code",
        "colab": {
          "base_uri": "https://localhost:8080/",
          "height": 34
        },
        "outputId": "b196492d-21e9-4630-c5b4-e5d2e8d40f05"
      },
      "cell_type": "code",
      "source": [
        "\n",
        "dummy_dict = {x:dummy_list.count(x) for x in dummy_list}\n",
        "\n",
        "print(dummy_dict)"
      ],
      "execution_count": 6,
      "outputs": [
        {
          "output_type": "stream",
          "text": [
            "{45: 1, 66: 1, 9: 1, 31: 1, 67: 1, 88: 1, 34: 1, 1: 2, 42: 1, 84: 1, 2: 1, 200: 1, 16: 1, 4: 1, 0: 1, 9.45: 1, 45.67: 1, 90: 1, 12.01: 1, 12.02: 1}\n"
          ],
          "name": "stdout"
        }
      ]
    },
    {
      "metadata": {
        "id": "FNHzzb4fFUwe",
        "colab_type": "text"
      },
      "cell_type": "markdown",
      "source": [
        "7) Sort dummy_list in ascending order as well as descending order and print the changed lists"
      ]
    },
    {
      "metadata": {
        "id": "uSSfj3koFXQ-",
        "colab_type": "code",
        "colab": {
          "base_uri": "https://localhost:8080/",
          "height": 51
        },
        "outputId": "c4917937-bd31-4b11-9acb-d7380d490366"
      },
      "cell_type": "code",
      "source": [
        "\n",
        "dummy_list.sort()\n",
        "print(dummy_list)\n",
        "dummy_list.reverse()\n",
        "print(dummy_list)"
      ],
      "execution_count": 7,
      "outputs": [
        {
          "output_type": "stream",
          "text": [
            "[0, 1, 1, 2, 4, 9, 9.45, 12.01, 12.02, 16, 31, 34, 42, 45, 45.67, 66, 67, 84, 88, 90, 200]\n",
            "[200, 90, 88, 84, 67, 66, 45.67, 45, 42, 34, 31, 16, 12.02, 12.01, 9.45, 9, 4, 2, 1, 1, 0]\n"
          ],
          "name": "stdout"
        }
      ]
    },
    {
      "metadata": {
        "id": "ZJLrICIsFYRN",
        "colab_type": "text"
      },
      "cell_type": "markdown",
      "source": [
        "8) Remove the first item from the list whose value is equal to x. It raises a ValueError if there is no such item."
      ]
    },
    {
      "metadata": {
        "id": "mC5Z3vpzFatc",
        "colab_type": "code",
        "colab": {
          "base_uri": "https://localhost:8080/",
          "height": 197
        },
        "outputId": "3d55f2df-4f62-48c3-a64c-0bad86448c3a"
      },
      "cell_type": "code",
      "source": [
        "\n",
        "x = 200\n",
        "dummy_list.remove(x)"
      ],
      "execution_count": 9,
      "outputs": [
        {
          "output_type": "error",
          "ename": "ValueError",
          "evalue": "ignored",
          "traceback": [
            "\u001b[0;31m---------------------------------------------------------------------------\u001b[0m",
            "\u001b[0;31mValueError\u001b[0m                                Traceback (most recent call last)",
            "\u001b[0;32m<ipython-input-9-971821ec5d60>\u001b[0m in \u001b[0;36m<module>\u001b[0;34m()\u001b[0m\n\u001b[1;32m      1\u001b[0m \u001b[0;34m\u001b[0m\u001b[0m\n\u001b[1;32m      2\u001b[0m \u001b[0mx\u001b[0m \u001b[0;34m=\u001b[0m \u001b[0;36m200\u001b[0m\u001b[0;34m\u001b[0m\u001b[0m\n\u001b[0;32m----> 3\u001b[0;31m \u001b[0mdummy_list\u001b[0m\u001b[0;34m.\u001b[0m\u001b[0mremove\u001b[0m\u001b[0;34m(\u001b[0m\u001b[0mx\u001b[0m\u001b[0;34m)\u001b[0m\u001b[0;34m\u001b[0m\u001b[0m\n\u001b[0m",
            "\u001b[0;31mValueError\u001b[0m: list.remove(x): x not in list"
          ]
        }
      ]
    },
    {
      "metadata": {
        "id": "vY0CVxioFa8m",
        "colab_type": "text"
      },
      "cell_type": "markdown",
      "source": [
        "9) Remove the item at position x. x is any random integer"
      ]
    },
    {
      "metadata": {
        "id": "VKrRihlRFdYd",
        "colab_type": "code",
        "colab": {
          "base_uri": "https://localhost:8080/",
          "height": 34
        },
        "outputId": "9dc8af8f-fa00-41b1-ddc2-c5c9b6ecdd73"
      },
      "cell_type": "code",
      "source": [
        "# Let's play: try doing the same with x > len(dummy_list) + 1 and see what you get\n",
        "\n",
        "x = random.randint(0, len(dummy_list))\n",
        "dummy_list.pop(x)"
      ],
      "execution_count": 10,
      "outputs": [
        {
          "output_type": "execute_result",
          "data": {
            "text/plain": [
              "1"
            ]
          },
          "metadata": {
            "tags": []
          },
          "execution_count": 10
        }
      ]
    },
    {
      "metadata": {
        "id": "IPoLSu2qFdhN",
        "colab_type": "text"
      },
      "cell_type": "markdown",
      "source": [
        "10) Let's clean everything clear the list and then print"
      ]
    },
    {
      "metadata": {
        "id": "WMmFf5yrFfjV",
        "colab_type": "code",
        "colab": {
          "base_uri": "https://localhost:8080/",
          "height": 51
        },
        "outputId": "625079e7-3f07-4436-9690-804de66330ab"
      },
      "cell_type": "code",
      "source": [
        "\n",
        "del dummy_list[:]\n",
        "del dummy_list_2[:]\n",
        "print(dummy_list)\n",
        "print(dummy_list_2)"
      ],
      "execution_count": 12,
      "outputs": [
        {
          "output_type": "stream",
          "text": [
            "[]\n",
            "[]\n"
          ],
          "name": "stdout"
        }
      ]
    },
    {
      "metadata": {
        "id": "dwXsPEhp-jDQ",
        "colab_type": "text"
      },
      "cell_type": "markdown",
      "source": [
        "# Numpy Exercises\n"
      ]
    },
    {
      "metadata": {
        "id": "l1NoWqh8-0v3",
        "colab_type": "text"
      },
      "cell_type": "markdown",
      "source": [
        "1) Create a uniform subdivision of the interval -1.3 to 2.5 with 64 subdivisions"
      ]
    },
    {
      "metadata": {
        "id": "YHBtDQbZ-3n_",
        "colab_type": "code",
        "colab": {
          "base_uri": "https://localhost:8080/",
          "height": 204
        },
        "outputId": "8360622b-912e-4b92-d921-a93663a6618f"
      },
      "cell_type": "code",
      "source": [
        "\n",
        "import numpy as np\n",
        "a = np.linspace(-1.3, 2.5, num = 64)\n",
        "print(a)"
      ],
      "execution_count": 13,
      "outputs": [
        {
          "output_type": "stream",
          "text": [
            "[-1.3        -1.23968254 -1.17936508 -1.11904762 -1.05873016 -0.9984127\n",
            " -0.93809524 -0.87777778 -0.81746032 -0.75714286 -0.6968254  -0.63650794\n",
            " -0.57619048 -0.51587302 -0.45555556 -0.3952381  -0.33492063 -0.27460317\n",
            " -0.21428571 -0.15396825 -0.09365079 -0.03333333  0.02698413  0.08730159\n",
            "  0.14761905  0.20793651  0.26825397  0.32857143  0.38888889  0.44920635\n",
            "  0.50952381  0.56984127  0.63015873  0.69047619  0.75079365  0.81111111\n",
            "  0.87142857  0.93174603  0.99206349  1.05238095  1.11269841  1.17301587\n",
            "  1.23333333  1.29365079  1.35396825  1.41428571  1.47460317  1.53492063\n",
            "  1.5952381   1.65555556  1.71587302  1.77619048  1.83650794  1.8968254\n",
            "  1.95714286  2.01746032  2.07777778  2.13809524  2.1984127   2.25873016\n",
            "  2.31904762  2.37936508  2.43968254  2.5       ]\n"
          ],
          "name": "stdout"
        }
      ]
    },
    {
      "metadata": {
        "id": "eNRZ8iHZ-4WL",
        "colab_type": "text"
      },
      "cell_type": "markdown",
      "source": [
        "2) Generate an array of length 3n filled with the cyclic pattern 1, 2, 3"
      ]
    },
    {
      "metadata": {
        "id": "mcO7cHAO-7hJ",
        "colab_type": "code",
        "colab": {
          "base_uri": "https://localhost:8080/",
          "height": 51
        },
        "outputId": "765ab9fb-1031-4df1-af45-817a5e050ec6"
      },
      "cell_type": "code",
      "source": [
        "\n",
        "x = np.array([1, 2, 3])\n",
        "n = int(input(\"Enter value of n\"))\n",
        "x =np.resize(x, (3*n))\n",
        "print(x)"
      ],
      "execution_count": 14,
      "outputs": [
        {
          "output_type": "stream",
          "text": [
            "Enter value of n3\n",
            "[1 2 3 1 2 3 1 2 3]\n"
          ],
          "name": "stdout"
        }
      ]
    },
    {
      "metadata": {
        "id": "NuYJ_nxc-7t6",
        "colab_type": "text"
      },
      "cell_type": "markdown",
      "source": [
        "3) Create an array of the first 10 odd integers."
      ]
    },
    {
      "metadata": {
        "id": "Yupu4rJY--jH",
        "colab_type": "code",
        "colab": {
          "base_uri": "https://localhost:8080/",
          "height": 34
        },
        "outputId": "22c90e85-88b6-4afc-deee-f7c72dc9e990"
      },
      "cell_type": "code",
      "source": [
        "\n",
        "\n",
        "b = np.arange(20)\n",
        "mask = b%2!=0\n",
        "b = b[mask]\n",
        "print(b)"
      ],
      "execution_count": 15,
      "outputs": [
        {
          "output_type": "stream",
          "text": [
            "[ 1  3  5  7  9 11 13 15 17 19]\n"
          ],
          "name": "stdout"
        }
      ]
    },
    {
      "metadata": {
        "id": "D3nc0TrP_A9X",
        "colab_type": "text"
      },
      "cell_type": "markdown",
      "source": [
        "4) Find intersection of a and b"
      ]
    },
    {
      "metadata": {
        "id": "AbqIsrvx_CKx",
        "colab_type": "code",
        "colab": {
          "base_uri": "https://localhost:8080/",
          "height": 34
        },
        "outputId": "c02d766d-54ee-4e95-87c2-7f909e3afcb4"
      },
      "cell_type": "code",
      "source": [
        "\n",
        "a = np.array([1,2,3,2,3,4,3,4,5,6])\n",
        "b = np.array([7,2,10,2,7,4,9,4,9,8])\n",
        "inter = []\n",
        "n = 0\n",
        "for i in range(len(a)):\n",
        "  for j in range(len(b)):\n",
        "    if(a[i] == b[j]):\n",
        "      for k in range(len(inter)):\n",
        "        if(a[i] == inter[k]):\n",
        "          n = n + 1\n",
        "      if(n == 0):\n",
        "          inter.append(a[i]) \n",
        "      n = 0\n",
        "print(inter)"
      ],
      "execution_count": 16,
      "outputs": [
        {
          "output_type": "stream",
          "text": [
            "[2, 4]\n"
          ],
          "name": "stdout"
        }
      ]
    },
    {
      "metadata": {
        "id": "-0OA1mwP_CWX",
        "colab_type": "text"
      },
      "cell_type": "markdown",
      "source": [
        "5) Reshape 1d array a to 2d array of 2X5"
      ]
    },
    {
      "metadata": {
        "id": "p398Gtft_E0f",
        "colab_type": "code",
        "colab": {
          "base_uri": "https://localhost:8080/",
          "height": 51
        },
        "outputId": "18db5e4c-d768-4e09-b393-88f52424bb88"
      },
      "cell_type": "code",
      "source": [
        "\n",
        "a = np.arange(10)\n",
        "b = np.reshape(a, (2, 5))\n",
        "print(b)"
      ],
      "execution_count": 17,
      "outputs": [
        {
          "output_type": "stream",
          "text": [
            "[[0 1 2 3 4]\n",
            " [5 6 7 8 9]]\n"
          ],
          "name": "stdout"
        }
      ]
    },
    {
      "metadata": {
        "id": "GvcuDD5s_FSX",
        "colab_type": "text"
      },
      "cell_type": "markdown",
      "source": [
        "6) Create a numpy array to list and vice versa"
      ]
    },
    {
      "metadata": {
        "id": "cwoWWBts_ICP",
        "colab_type": "code",
        "colab": {
          "base_uri": "https://localhost:8080/",
          "height": 51
        },
        "outputId": "d110d97b-e7e8-4ba6-af8a-56f989164ac4"
      },
      "cell_type": "code",
      "source": [
        "\n",
        "a = [1, 2, 3, 4, 5, 6, 7, 8, 9]\n",
        "a = np.asarray(a)\n",
        "print(a)\n",
        "a = a.tolist()\n",
        "print(a)"
      ],
      "execution_count": 18,
      "outputs": [
        {
          "output_type": "stream",
          "text": [
            "[1 2 3 4 5 6 7 8 9]\n",
            "[1, 2, 3, 4, 5, 6, 7, 8, 9]\n"
          ],
          "name": "stdout"
        }
      ]
    },
    {
      "metadata": {
        "id": "sIu5d5EJ_KVP",
        "colab_type": "text"
      },
      "cell_type": "markdown",
      "source": [
        "7) Create a 10 x 10 arrays of zeros and then \"frame\" it with a border of ones."
      ]
    },
    {
      "metadata": {
        "id": "qp8vnM6Z_LCX",
        "colab_type": "code",
        "colab": {
          "base_uri": "https://localhost:8080/",
          "height": 357
        },
        "outputId": "df43ba0d-54e7-461e-f1a8-ccb3c6e49fe2"
      },
      "cell_type": "code",
      "source": [
        "\n",
        "a = np.zeros(shape=(10,10))\n",
        "print(a)\n",
        "a[0, 0:10] = 1\n",
        "a[9, 0:10] = 1\n",
        "a[0:10, 9] = 1\n",
        "a[0:10, 0] = 1\n",
        "print(a)"
      ],
      "execution_count": 19,
      "outputs": [
        {
          "output_type": "stream",
          "text": [
            "[[0. 0. 0. 0. 0. 0. 0. 0. 0. 0.]\n",
            " [0. 0. 0. 0. 0. 0. 0. 0. 0. 0.]\n",
            " [0. 0. 0. 0. 0. 0. 0. 0. 0. 0.]\n",
            " [0. 0. 0. 0. 0. 0. 0. 0. 0. 0.]\n",
            " [0. 0. 0. 0. 0. 0. 0. 0. 0. 0.]\n",
            " [0. 0. 0. 0. 0. 0. 0. 0. 0. 0.]\n",
            " [0. 0. 0. 0. 0. 0. 0. 0. 0. 0.]\n",
            " [0. 0. 0. 0. 0. 0. 0. 0. 0. 0.]\n",
            " [0. 0. 0. 0. 0. 0. 0. 0. 0. 0.]\n",
            " [0. 0. 0. 0. 0. 0. 0. 0. 0. 0.]]\n",
            "[[1. 1. 1. 1. 1. 1. 1. 1. 1. 1.]\n",
            " [1. 0. 0. 0. 0. 0. 0. 0. 0. 1.]\n",
            " [1. 0. 0. 0. 0. 0. 0. 0. 0. 1.]\n",
            " [1. 0. 0. 0. 0. 0. 0. 0. 0. 1.]\n",
            " [1. 0. 0. 0. 0. 0. 0. 0. 0. 1.]\n",
            " [1. 0. 0. 0. 0. 0. 0. 0. 0. 1.]\n",
            " [1. 0. 0. 0. 0. 0. 0. 0. 0. 1.]\n",
            " [1. 0. 0. 0. 0. 0. 0. 0. 0. 1.]\n",
            " [1. 0. 0. 0. 0. 0. 0. 0. 0. 1.]\n",
            " [1. 1. 1. 1. 1. 1. 1. 1. 1. 1.]]\n"
          ],
          "name": "stdout"
        }
      ]
    },
    {
      "metadata": {
        "id": "Zdg5ex-0_Mnj",
        "colab_type": "text"
      },
      "cell_type": "markdown",
      "source": [
        "8) Create an 8 x 8 array with a checkerboard pattern of zeros and ones using a slicing+striding approach."
      ]
    },
    {
      "metadata": {
        "id": "cCG2Z2A0_NRr",
        "colab_type": "code",
        "colab": {
          "base_uri": "https://localhost:8080/",
          "height": 153
        },
        "outputId": "e05c498b-e674-466b-a36d-7431c66e7d14"
      },
      "cell_type": "code",
      "source": [
        "\n",
        "a = np.zeros(shape=(8, 8)) \n",
        "a[1::2, ::2] = 1\n",
        "a[::2, 1::2] = 1\n",
        "print(a)"
      ],
      "execution_count": 20,
      "outputs": [
        {
          "output_type": "stream",
          "text": [
            "[[0. 1. 0. 1. 0. 1. 0. 1.]\n",
            " [1. 0. 1. 0. 1. 0. 1. 0.]\n",
            " [0. 1. 0. 1. 0. 1. 0. 1.]\n",
            " [1. 0. 1. 0. 1. 0. 1. 0.]\n",
            " [0. 1. 0. 1. 0. 1. 0. 1.]\n",
            " [1. 0. 1. 0. 1. 0. 1. 0.]\n",
            " [0. 1. 0. 1. 0. 1. 0. 1.]\n",
            " [1. 0. 1. 0. 1. 0. 1. 0.]]\n"
          ],
          "name": "stdout"
        }
      ]
    }
  ]
}