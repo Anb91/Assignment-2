{
  "nbformat": 4,
  "nbformat_minor": 0,
  "metadata": {
    "colab": {
      "name": "samrat19.ipynb",
      "version": "0.3.2",
      "provenance": [],
      "include_colab_link": true
    },
    "kernelspec": {
      "display_name": "Python 3",
      "language": "python",
      "name": "python3"
    }
  },
  "cells": [
    {
      "cell_type": "markdown",
      "metadata": {
        "id": "view-in-github",
        "colab_type": "text"
      },
      "source": [
        "[View in Colaboratory](https://colab.research.google.com/github/samrat19/Assignment-2/blob/samrat19/samrat19.ipynb)"
      ]
    },
    {
      "metadata": {
        "id": "jqLuehlsEeTb",
        "colab_type": "text"
      },
      "cell_type": "markdown",
      "source": [
        "#1. List.ipynb"
      ]
    },
    {
      "metadata": {
        "id": "Gc3l52AiE0gN",
        "colab_type": "text"
      },
      "cell_type": "markdown",
      "source": [
        "\n",
        "\n",
        "```\n",
        "1) Create any random list and assign it to a variable dummy_list"
      ]
    },
    {
      "metadata": {
        "id": "QgErAq9jER0F",
        "colab_type": "code",
        "colab": {}
      },
      "cell_type": "code",
      "source": [
        "\n",
        "import random\n",
        "dummy_list = [random.randrange(1, 100) for i in range(0, 10)]"
      ],
      "execution_count": 0,
      "outputs": []
    },
    {
      "metadata": {
        "id": "DSP_DfUgE7_F",
        "colab_type": "text"
      },
      "cell_type": "markdown",
      "source": [
        "2) print dummy_list"
      ]
    },
    {
      "metadata": {
        "id": "Y5m9coOfE_lu",
        "colab_type": "code",
        "colab": {
          "base_uri": "https://localhost:8080/",
          "height": 34
        },
        "outputId": "13dbaba7-a50b-4e1d-c728-c34f66861389"
      },
      "cell_type": "code",
      "source": [
        "\n",
        "import random\n",
        "dummy_list = [random.randrange(1, 100) for i in range(0, 10)]\n",
        "print(dummy_list)"
      ],
      "execution_count": 3,
      "outputs": [
        {
          "output_type": "stream",
          "text": [
            "[74, 97, 25, 42, 74, 42, 66, 83, 8, 85]\n"
          ],
          "name": "stdout"
        }
      ]
    },
    {
      "metadata": {
        "id": "njRL4JXdFANF",
        "colab_type": "text"
      },
      "cell_type": "markdown",
      "source": [
        "3) Reverse dummy_list and print"
      ]
    },
    {
      "metadata": {
        "id": "6O5O4IN9FCR9",
        "colab_type": "code",
        "colab": {
          "base_uri": "https://localhost:8080/",
          "height": 34
        },
        "outputId": "af0a8389-fcd9-4b2b-b7fe-e6c32e2d71be"
      },
      "cell_type": "code",
      "source": [
        "\n",
        "import random\n",
        "dummy_list = [random.randrange(1, 100) for i in range(0, 10)]\n",
        "dummy_list.reverse()\n",
        "print(dummy_list)"
      ],
      "execution_count": 6,
      "outputs": [
        {
          "output_type": "stream",
          "text": [
            "[87, 98, 41, 88, 85, 8, 34, 1, 41, 23]\n"
          ],
          "name": "stdout"
        }
      ]
    },
    {
      "metadata": {
        "id": "wBl1b5m7FCl1",
        "colab_type": "text"
      },
      "cell_type": "markdown",
      "source": [
        "4) Add the list dummy_list_2 to the previous dummy_list and now print dummy_list"
      ]
    },
    {
      "metadata": {
        "id": "BKaKOriCFEue",
        "colab_type": "code",
        "colab": {
          "base_uri": "https://localhost:8080/",
          "height": 34
        },
        "outputId": "f13b107e-390b-41a9-963a-7d8ebe6774c6"
      },
      "cell_type": "code",
      "source": [
        "\n",
        "import random\n",
        "dummy_list = [random.randrange(1, 100) for i in range(0, 10)]\n",
        "dummy_list_2 = [2, 200, 16, 4, 1, 0, 9.45, 45.67, 90, 12.01, 12.02]\n",
        "dummy_list = dummy_list + dummy_list_2\n",
        "print(dummy_list)\n"
      ],
      "execution_count": 7,
      "outputs": [
        {
          "output_type": "stream",
          "text": [
            "[21, 14, 96, 11, 74, 52, 10, 33, 10, 32, 2, 200, 16, 4, 1, 0, 9.45, 45.67, 90, 12.01, 12.02]\n"
          ],
          "name": "stdout"
        }
      ]
    },
    {
      "metadata": {
        "id": "5ibWtSQxFFk9",
        "colab_type": "text"
      },
      "cell_type": "markdown",
      "source": [
        "5) Create a dictionary named dummy_dict which contains all the elements of dummy_list as keys and frequency as values."
      ]
    },
    {
      "metadata": {
        "id": "6NVMNBL9FJSW",
        "colab_type": "code",
        "colab": {}
      },
      "cell_type": "code",
      "source": [
        "\n",
        "import random\n",
        "dummy_list = [random.randrange(1, 100) for i in range(0, 10)]\n",
        "dummy_dict = {x:dummy_list.count(x) for x in dummy_list}"
      ],
      "execution_count": 0,
      "outputs": []
    },
    {
      "metadata": {
        "id": "qbPeqbC0FPqV",
        "colab_type": "text"
      },
      "cell_type": "markdown",
      "source": [
        "6) print dummy_dict"
      ]
    },
    {
      "metadata": {
        "id": "EE-3hHjLFTyN",
        "colab_type": "code",
        "colab": {}
      },
      "cell_type": "code",
      "source": [
        "\n",
        "import random\n",
        "dummy_list = [random.randrange(1, 100) for i in range(0, 10)]\n",
        "dummy_dict = {x:dummy_list.count(x) for x in dummy_list}"
      ],
      "execution_count": 0,
      "outputs": []
    },
    {
      "metadata": {
        "id": "FNHzzb4fFUwe",
        "colab_type": "text"
      },
      "cell_type": "markdown",
      "source": [
        "7) Sort dummy_list in ascending order as well as descending order and print the changed lists"
      ]
    },
    {
      "metadata": {
        "id": "uSSfj3koFXQ-",
        "colab_type": "code",
        "colab": {
          "base_uri": "https://localhost:8080/",
          "height": 51
        },
        "outputId": "85d0febb-d684-40ba-dad0-e42fddd93040"
      },
      "cell_type": "code",
      "source": [
        "\n",
        "import random\n",
        "dummy_list = [random.randrange(1, 100) for i in range(0, 10)]\n",
        "dummy_list.sort()\n",
        "print(dummy_list)\n",
        "dummy_list.reverse()\n",
        "print(dummy_list)"
      ],
      "execution_count": 11,
      "outputs": [
        {
          "output_type": "stream",
          "text": [
            "[3, 8, 24, 26, 40, 46, 47, 87, 90, 90]\n",
            "[90, 90, 87, 47, 46, 40, 26, 24, 8, 3]\n"
          ],
          "name": "stdout"
        }
      ]
    },
    {
      "metadata": {
        "id": "ZJLrICIsFYRN",
        "colab_type": "text"
      },
      "cell_type": "markdown",
      "source": [
        "8) Remove the first item from the list whose value is equal to x. It raises a ValueError if there is no such item."
      ]
    },
    {
      "metadata": {
        "id": "mC5Z3vpzFatc",
        "colab_type": "code",
        "colab": {
          "base_uri": "https://localhost:8080/",
          "height": 197
        },
        "outputId": "dfa03e4d-eb68-43bc-a536-486fe975ff1d"
      },
      "cell_type": "code",
      "source": [
        "\n",
        "import random\n",
        "dummy_list = [random.randrange(1, 100) for i in range(0, 10)]\n",
        "x = 200\n",
        "dummy_list.remove(x)"
      ],
      "execution_count": 10,
      "outputs": [
        {
          "output_type": "error",
          "ename": "ValueError",
          "evalue": "ignored",
          "traceback": [
            "\u001b[0;31m---------------------------------------------------------------------------\u001b[0m",
            "\u001b[0;31mValueError\u001b[0m                                Traceback (most recent call last)",
            "\u001b[0;32m<ipython-input-10-970195dbe2c9>\u001b[0m in \u001b[0;36m<module>\u001b[0;34m()\u001b[0m\n\u001b[1;32m      3\u001b[0m \u001b[0mdummy_list\u001b[0m \u001b[0;34m=\u001b[0m \u001b[0;34m[\u001b[0m\u001b[0mrandom\u001b[0m\u001b[0;34m.\u001b[0m\u001b[0mrandrange\u001b[0m\u001b[0;34m(\u001b[0m\u001b[0;36m1\u001b[0m\u001b[0;34m,\u001b[0m \u001b[0;36m100\u001b[0m\u001b[0;34m)\u001b[0m \u001b[0;32mfor\u001b[0m \u001b[0mi\u001b[0m \u001b[0;32min\u001b[0m \u001b[0mrange\u001b[0m\u001b[0;34m(\u001b[0m\u001b[0;36m0\u001b[0m\u001b[0;34m,\u001b[0m \u001b[0;36m10\u001b[0m\u001b[0;34m)\u001b[0m\u001b[0;34m]\u001b[0m\u001b[0;34m\u001b[0m\u001b[0m\n\u001b[1;32m      4\u001b[0m \u001b[0mx\u001b[0m \u001b[0;34m=\u001b[0m \u001b[0;36m200\u001b[0m\u001b[0;34m\u001b[0m\u001b[0m\n\u001b[0;32m----> 5\u001b[0;31m \u001b[0mdummy_list\u001b[0m\u001b[0;34m.\u001b[0m\u001b[0mremove\u001b[0m\u001b[0;34m(\u001b[0m\u001b[0mx\u001b[0m\u001b[0;34m)\u001b[0m\u001b[0;34m\u001b[0m\u001b[0m\n\u001b[0m",
            "\u001b[0;31mValueError\u001b[0m: list.remove(x): x not in list"
          ]
        }
      ]
    },
    {
      "metadata": {
        "id": "vY0CVxioFa8m",
        "colab_type": "text"
      },
      "cell_type": "markdown",
      "source": [
        "9) Remove the item at position x. x is any random integer"
      ]
    },
    {
      "metadata": {
        "id": "VKrRihlRFdYd",
        "colab_type": "code",
        "colab": {
          "base_uri": "https://localhost:8080/",
          "height": 34
        },
        "outputId": "260d5bb4-7f78-4d79-e74f-eaf0ba756ba6"
      },
      "cell_type": "code",
      "source": [
        "# Let's play: try doing the same with x > len(dummy_list) + 1 and see what you get\n",
        "\n",
        "\n",
        "import random\n",
        "dummy_list = [random.randrange(1, 100) for i in range(0, 10)]\n",
        "x = random.randint(0, len(dummy_list))\n",
        "dummy_list.pop(x)"
      ],
      "execution_count": 9,
      "outputs": [
        {
          "output_type": "execute_result",
          "data": {
            "text/plain": [
              "48"
            ]
          },
          "metadata": {
            "tags": []
          },
          "execution_count": 9
        }
      ]
    },
    {
      "metadata": {
        "id": "IPoLSu2qFdhN",
        "colab_type": "text"
      },
      "cell_type": "markdown",
      "source": [
        "10) Let's clean everything clear the list and then print"
      ]
    },
    {
      "metadata": {
        "id": "WMmFf5yrFfjV",
        "colab_type": "code",
        "colab": {
          "base_uri": "https://localhost:8080/",
          "height": 51
        },
        "outputId": "81fc494a-6a43-430d-965c-0cc26932c6e9"
      },
      "cell_type": "code",
      "source": [
        "\n",
        "import random\n",
        "dummy_list = [random.randrange(1, 100) for i in range(0, 10)]\n",
        "dummy_list_2 = [2, 200, 16, 4, 1, 0, 9.45, 45.67, 90, 12.01, 12.02]\n",
        "del dummy_list[:]\n",
        "del dummy_list_2[:]\n",
        "print(dummy_list)\n",
        "print(dummy_list_2)"
      ],
      "execution_count": 8,
      "outputs": [
        {
          "output_type": "stream",
          "text": [
            "[]\n",
            "[]\n"
          ],
          "name": "stdout"
        }
      ]
    }
  ]
}