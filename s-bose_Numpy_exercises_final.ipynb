{
  "nbformat": 4,
  "nbformat_minor": 0,
  "metadata": {
    "colab": {
      "name": "s-bose.ipynb",
      "version": "0.3.2",
      "provenance": []
    },
    "kernelspec": {
      "display_name": "Python 3",
      "language": "python",
      "name": "python3"
    }
  },
  "cells": [
    {
      "metadata": {
        "id": "Hr3ako-x8V_C",
        "colab_type": "code",
        "colab": {
          "base_uri": "https://localhost:8080/",
          "height": 212
        },
        "outputId": "bf9b28da-d89c-49cc-fe4b-a8775394c626"
      },
      "cell_type": "code",
      "source": [
        "#Create a uniform subdivision of the interval -1.3 to 2.5 with 64 subdivisions\n",
        "\n",
        "import numpy as np\n",
        "\n",
        "a = np.linspace(-1.3, 2.5, num= 64)\n",
        "print(a)"
      ],
      "execution_count": 1,
      "outputs": [
        {
          "output_type": "stream",
          "text": [
            "[-1.3        -1.23968254 -1.17936508 -1.11904762 -1.05873016 -0.9984127\n",
            " -0.93809524 -0.87777778 -0.81746032 -0.75714286 -0.6968254  -0.63650794\n",
            " -0.57619048 -0.51587302 -0.45555556 -0.3952381  -0.33492063 -0.27460317\n",
            " -0.21428571 -0.15396825 -0.09365079 -0.03333333  0.02698413  0.08730159\n",
            "  0.14761905  0.20793651  0.26825397  0.32857143  0.38888889  0.44920635\n",
            "  0.50952381  0.56984127  0.63015873  0.69047619  0.75079365  0.81111111\n",
            "  0.87142857  0.93174603  0.99206349  1.05238095  1.11269841  1.17301587\n",
            "  1.23333333  1.29365079  1.35396825  1.41428571  1.47460317  1.53492063\n",
            "  1.5952381   1.65555556  1.71587302  1.77619048  1.83650794  1.8968254\n",
            "  1.95714286  2.01746032  2.07777778  2.13809524  2.1984127   2.25873016\n",
            "  2.31904762  2.37936508  2.43968254  2.5       ]\n"
          ],
          "name": "stdout"
        }
      ]
    },
    {
      "metadata": {
        "id": "gp3JIdJTGzU9",
        "colab_type": "code",
        "colab": {
          "base_uri": "https://localhost:8080/",
          "height": 34
        },
        "outputId": "10d5b7d9-4f14-4588-cf19-e4a51155217b"
      },
      "cell_type": "code",
      "source": [
        "#Generate an array of length 3n filled with the cyclic pattern 1, 2, 3\n",
        "\n",
        "\n",
        "n = 4\n",
        "a = np.array([1, 2, 3])\n",
        "a = np.resize(a, 3*n)\n",
        "print(a)"
      ],
      "execution_count": 2,
      "outputs": [
        {
          "output_type": "stream",
          "text": [
            "[1 2 3 1 2 3 1 2 3 1 2 3]\n"
          ],
          "name": "stdout"
        }
      ]
    },
    {
      "metadata": {
        "id": "Y3Ze28CKHINl",
        "colab_type": "code",
        "colab": {
          "base_uri": "https://localhost:8080/",
          "height": 34
        },
        "outputId": "597607ab-2124-48bd-a40a-37913a871bb5"
      },
      "cell_type": "code",
      "source": [
        "#Create an array of the first 10 odd integers.\n",
        "\n",
        "a = np.arange(1, 20, 2)\n",
        "print(a)"
      ],
      "execution_count": 3,
      "outputs": [
        {
          "output_type": "stream",
          "text": [
            "[ 1  3  5  7  9 11 13 15 17 19]\n"
          ],
          "name": "stdout"
        }
      ]
    },
    {
      "metadata": {
        "id": "Ok2MKUj2JsMU",
        "colab_type": "code",
        "colab": {
          "base_uri": "https://localhost:8080/",
          "height": 34
        },
        "outputId": "69d1d4ba-e0f3-4c6f-dac7-9b97082f2d58"
      },
      "cell_type": "code",
      "source": [
        "#Find intersection of a and b\n",
        "\n",
        "a = np.array([1,2,3,2,3,4,3,4,5,6])\n",
        "b = np.array([7,2,10,2,7,4,9,4,9,8])\n",
        "\n",
        "c = np.intersect1d(a, b)\n",
        "print(c)"
      ],
      "execution_count": 4,
      "outputs": [
        {
          "output_type": "stream",
          "text": [
            "[2 4]\n"
          ],
          "name": "stdout"
        }
      ]
    },
    {
      "metadata": {
        "id": "M_85LtOlKH9x",
        "colab_type": "code",
        "colab": {
          "base_uri": "https://localhost:8080/",
          "height": 52
        },
        "outputId": "6b02a5aa-8c03-4d66-a47e-7537a55aa588"
      },
      "cell_type": "code",
      "source": [
        "# Reshape 1d array a to 2d array of 2X5\n",
        "\n",
        "a = np.arange(10)\n",
        "b = np.resize(a, (2, 5))\n",
        "#b = a.reshape(2, 5)\n",
        "print(b)"
      ],
      "execution_count": 5,
      "outputs": [
        {
          "output_type": "stream",
          "text": [
            "[[0 1 2 3 4]\n",
            " [5 6 7 8 9]]\n"
          ],
          "name": "stdout"
        }
      ]
    },
    {
      "metadata": {
        "id": "ERVMwri0LfEy",
        "colab_type": "code",
        "colab": {
          "base_uri": "https://localhost:8080/",
          "height": 52
        },
        "outputId": "08bca144-569e-49e4-9776-e5341778973b"
      },
      "cell_type": "code",
      "source": [
        "#Create a numpy array to list and vice versa\n",
        "\n",
        "a = [1, 2, 3, 4, 5, 6, 7, 8, 9]    #list\n",
        "b = np.array(a)                    #to array\n",
        "print(b)                           #array\n",
        "c = list(b)                        #to list\n",
        "print(c)                           #list again\n"
      ],
      "execution_count": 6,
      "outputs": [
        {
          "output_type": "stream",
          "text": [
            "[1 2 3 4 5 6 7 8 9]\n",
            "[1, 2, 3, 4, 5, 6, 7, 8, 9]\n"
          ],
          "name": "stdout"
        }
      ]
    },
    {
      "metadata": {
        "id": "Yr5g8gx7O1lC",
        "colab_type": "code",
        "colab": {
          "base_uri": "https://localhost:8080/",
          "height": 194
        },
        "outputId": "96e25fc7-c349-4fc8-9fe1-6321704be5b7"
      },
      "cell_type": "code",
      "source": [
        "#Create a 10 x 10 arrays of zeros and then \"frame\" it with a border of ones.\n",
        "\n",
        "a = np.zeros((10, 10))\n",
        "a[0, :] = a[-1, :] = 1\n",
        "a[:, 0] = a[:, -1] = 1\n",
        "\n",
        "#alternatively\n",
        "\"\"\"\n",
        "a = np.ones((10, 10))\n",
        "a[1:-1, 1:-1] = 0\n",
        "print(a)\n",
        "\n",
        "\"\"\"\n",
        "print(a)\n",
        "\n"
      ],
      "execution_count": 8,
      "outputs": [
        {
          "output_type": "stream",
          "text": [
            "[[1. 1. 1. 1. 1. 1. 1. 1. 1. 1.]\n",
            " [1. 0. 0. 0. 0. 0. 0. 0. 0. 1.]\n",
            " [1. 0. 0. 0. 0. 0. 0. 0. 0. 1.]\n",
            " [1. 0. 0. 0. 0. 0. 0. 0. 0. 1.]\n",
            " [1. 0. 0. 0. 0. 0. 0. 0. 0. 1.]\n",
            " [1. 0. 0. 0. 0. 0. 0. 0. 0. 1.]\n",
            " [1. 0. 0. 0. 0. 0. 0. 0. 0. 1.]\n",
            " [1. 0. 0. 0. 0. 0. 0. 0. 0. 1.]\n",
            " [1. 0. 0. 0. 0. 0. 0. 0. 0. 1.]\n",
            " [1. 1. 1. 1. 1. 1. 1. 1. 1. 1.]]\n"
          ],
          "name": "stdout"
        }
      ]
    },
    {
      "metadata": {
        "id": "Ya3pR1YPO4hA",
        "colab_type": "code",
        "colab": {
          "base_uri": "https://localhost:8080/",
          "height": 158
        },
        "outputId": "cd7734cc-f1fa-4be1-cff8-8e55cac1660b"
      },
      "cell_type": "code",
      "source": [
        "#Create an 8 x 8 array with a checkerboard pattern of zeros and ones using a slicing+striding approach.\n",
        "\n",
        "a = np.ones((8, 8))\n",
        "a[1::2, ::2] = 0\n",
        "a[::2, 1::2] = 0\n",
        "print(a)\n"
      ],
      "execution_count": 9,
      "outputs": [
        {
          "output_type": "stream",
          "text": [
            "[[1. 0. 1. 0. 1. 0. 1. 0.]\n",
            " [0. 1. 0. 1. 0. 1. 0. 1.]\n",
            " [1. 0. 1. 0. 1. 0. 1. 0.]\n",
            " [0. 1. 0. 1. 0. 1. 0. 1.]\n",
            " [1. 0. 1. 0. 1. 0. 1. 0.]\n",
            " [0. 1. 0. 1. 0. 1. 0. 1.]\n",
            " [1. 0. 1. 0. 1. 0. 1. 0.]\n",
            " [0. 1. 0. 1. 0. 1. 0. 1.]]\n"
          ],
          "name": "stdout"
        }
      ]
    }
  ]
}