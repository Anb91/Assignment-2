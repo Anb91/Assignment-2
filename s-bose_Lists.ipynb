{
  "nbformat": 4,
  "nbformat_minor": 0,
  "metadata": {
    "colab": {
      "name": "s-bose.ipynb",
      "version": "0.3.2",
      "provenance": []
    },
    "kernelspec": {
      "display_name": "Python 3",
      "language": "python",
      "name": "python3"
    }
  },
  "cells": [
    {
      "metadata": {
        "id": "z3JBQ9hM1wGQ",
        "colab_type": "code",
        "colab": {}
      },
      "cell_type": "code",
      "source": [
        "#Create any random list and assign it to a variable dummy_list\n",
        "\n",
        "import random as rd\n",
        "rand_list = []\n",
        "for i in range(10):\n",
        "    rand_list.append(rd.randrange(1, 50))\n",
        "dummy_list = rand_list"
      ],
      "execution_count": 0,
      "outputs": []
    },
    {
      "metadata": {
        "id": "-TKFFZtc2DUK",
        "colab_type": "code",
        "colab": {
          "base_uri": "https://localhost:8080/",
          "height": 34
        },
        "outputId": "7d86356f-6b40-427b-e278-39ace40a9a92"
      },
      "cell_type": "code",
      "source": [
        "#print dummy_list\n",
        "\n",
        "print(dummy_list)"
      ],
      "execution_count": 2,
      "outputs": [
        {
          "output_type": "stream",
          "text": [
            "[42, 3, 2, 1, 27, 6, 32, 38, 10, 22]\n"
          ],
          "name": "stdout"
        }
      ]
    },
    {
      "metadata": {
        "id": "dEsc9VG72ImT",
        "colab_type": "code",
        "colab": {}
      },
      "cell_type": "code",
      "source": [
        "#Reverse dummy_list and print\n",
        "  \n",
        "dummy_list.reverse()\n",
        "print(dummy)"
      ],
      "execution_count": 0,
      "outputs": []
    },
    {
      "metadata": {
        "id": "IhaNy8Au2V2w",
        "colab_type": "code",
        "colab": {
          "base_uri": "https://localhost:8080/",
          "height": 34
        },
        "outputId": "63cf30ae-624a-43d1-95b2-60774bf1f057"
      },
      "cell_type": "code",
      "source": [
        "#Add the list dummy_list_2 to the previous dummy_list and now print dummy_list\n",
        "\n",
        "dummy_list_2 = [2, 200, 16, 4, 1, 0, 9.45, 45.67, 90, 12.01, 12.02]\n",
        "dummy_list += dummy_list_2\n",
        "print(dummy_list)"
      ],
      "execution_count": 5,
      "outputs": [
        {
          "output_type": "stream",
          "text": [
            "[42, 3, 2, 1, 27, 6, 32, 38, 10, 22, 2, 200, 16, 4, 1, 0, 9.45, 45.67, 90, 12.01, 12.02, 2, 200, 16, 4, 1, 0, 9.45, 45.67, 90, 12.01, 12.02]\n"
          ],
          "name": "stdout"
        }
      ]
    },
    {
      "metadata": {
        "id": "A5VVbqI_2uUg",
        "colab_type": "code",
        "colab": {}
      },
      "cell_type": "code",
      "source": [
        "#Create a dictionary named dummy_dict which contains all the elements of dummy_list as keys and frequency as values\n",
        "\n",
        "dummy_dict = {}\n",
        "dummy_dict = {x:sorted(dummy_list).count(x) for x in dummy_list}"
      ],
      "execution_count": 0,
      "outputs": []
    },
    {
      "metadata": {
        "id": "4nyj-HCR20a-",
        "colab_type": "code",
        "colab": {
          "base_uri": "https://localhost:8080/",
          "height": 34
        },
        "outputId": "8efc7374-75a7-47fd-8306-35b3babbe5fb"
      },
      "cell_type": "code",
      "source": [
        "#print dummy_dict\n",
        "\n",
        "print(dummy_dict)"
      ],
      "execution_count": 9,
      "outputs": [
        {
          "output_type": "stream",
          "text": [
            "{42: 1, 3: 1, 2: 3, 1: 3, 27: 1, 6: 1, 32: 1, 38: 1, 10: 1, 22: 1, 200: 2, 16: 2, 4: 2, 0: 2, 9.45: 2, 45.67: 2, 90: 2, 12.01: 2, 12.02: 2}\n"
          ],
          "name": "stdout"
        }
      ]
    },
    {
      "metadata": {
        "id": "RE0yBF_E2_5k",
        "colab_type": "code",
        "colab": {
          "base_uri": "https://localhost:8080/",
          "height": 52
        },
        "outputId": "5618f1ec-4372-4c8d-ab11-b1b4ded266fc"
      },
      "cell_type": "code",
      "source": [
        "#Sort dummy_list in ascending order as well as descending order and print the changed lists\n",
        "\n",
        "dummy_list.sort()\n",
        "print(dummy_list)\n",
        "dummy_list.sort(reverse = True)\n",
        "print(dummy_list)"
      ],
      "execution_count": 10,
      "outputs": [
        {
          "output_type": "stream",
          "text": [
            "[0, 0, 1, 1, 1, 2, 2, 2, 3, 4, 4, 6, 9.45, 9.45, 10, 12.01, 12.01, 12.02, 12.02, 16, 16, 22, 27, 32, 38, 42, 45.67, 45.67, 90, 90, 200, 200]\n",
            "[200, 200, 90, 90, 45.67, 45.67, 42, 38, 32, 27, 22, 16, 16, 12.02, 12.02, 12.01, 12.01, 10, 9.45, 9.45, 6, 4, 4, 3, 2, 2, 2, 1, 1, 1, 0, 0]\n"
          ],
          "name": "stdout"
        }
      ]
    },
    {
      "metadata": {
        "id": "vZ0pGeup6q-v",
        "colab_type": "code",
        "colab": {}
      },
      "cell_type": "code",
      "source": [
        "#Remove the first item from the list whose value is equal to x. It raises a ValueError if there is no such item.\n",
        "\n",
        "x = 200\n",
        "dummy_list.remove(x)\n",
        "\n",
        "# Let's play: try the same with something which is not in the list to get the ValueError\n",
        "\n",
        "x = 100\n",
        "##dummy_list.remove(x)    raises ValueError: list.reemove(x): x not in list"
      ],
      "execution_count": 0,
      "outputs": []
    },
    {
      "metadata": {
        "id": "lUNqF5ca6sal",
        "colab_type": "code",
        "colab": {}
      },
      "cell_type": "code",
      "source": [
        "#Remove the item at position x. x is any random integer\n",
        "\n",
        "x = rd.randrange(0, len(dummy_list))\n",
        "print(x)\n",
        "del dummy_list[x]\n",
        "print(dummy_list)\n",
        "\n",
        "# Let's play: try doing the same with x > len(dummy_list) + 1 and see what you get\n",
        "\n",
        "x = len(dummy_list) + 1\n",
        "#del dummy_list[x]   #raises IndexError: list assignment index out of range"
      ],
      "execution_count": 0,
      "outputs": []
    },
    {
      "metadata": {
        "id": "Tnk1z1CX7i2j",
        "colab_type": "code",
        "colab": {
          "base_uri": "https://localhost:8080/",
          "height": 34
        },
        "outputId": "6c485f79-ae5e-4bd3-aa62-fbc5b09f8cd6"
      },
      "cell_type": "code",
      "source": [
        "#Let's clean everything clear the list and then print\n",
        "\n",
        "del dummy_list[:]\n",
        "print(dummy_list)"
      ],
      "execution_count": 19,
      "outputs": [
        {
          "output_type": "stream",
          "text": [
            "[]\n"
          ],
          "name": "stdout"
        }
      ]
    }
  ]
}