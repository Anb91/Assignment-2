{
  "nbformat": 4,
  "nbformat_minor": 0,
  "metadata": {
    "colab": {
      "name": "Numpy_Exercises.ipynb",
      "version": "0.3.2",
      "provenance": [],
      "include_colab_link": true
    },
    "kernelspec": {
      "name": "python3",
      "display_name": "Python 3"
    }
  },
  "cells": [
    {
      "cell_type": "markdown",
      "metadata": {
        "id": "view-in-github",
        "colab_type": "text"
      },
      "source": [
        "[View in Colaboratory](https://colab.research.google.com/github/k-manisha/Assignment-2/blob/k-manisha/Numpy_Exercises.ipynb)"
      ]
    },
    {
      "metadata": {
        "id": "a_4UupTr9fbX",
        "colab_type": "text"
      },
      "cell_type": "markdown",
      "source": [
        "# Numpy Exercises\n",
        "\n",
        "1) Create a uniform subdivision of the interval -1.3 to 2.5 with 64 subdivisions"
      ]
    },
    {
      "metadata": {
        "id": "LIP5u4zi0Nmg",
        "colab_type": "code",
        "colab": {
          "base_uri": "https://localhost:8080/",
          "height": 1105
        },
        "outputId": "ac20a3db-f7b8-484e-c19d-f55c0cb3afab"
      },
      "cell_type": "code",
      "source": [
        "import numpy as np #import numpy\n",
        "#a = np.arange(-1.3,2.5,0.06)\n",
        "a=np.linspace(-1.3,2.5,64+1)\n",
        "a=list(map(lambda x,y: [x,y] , a,a[1:]))\n",
        "a=np.array(a)\n",
        "print(a)"
      ],
      "execution_count": 2,
      "outputs": [
        {
          "output_type": "stream",
          "text": [
            "[[-1.3      -1.240625]\n",
            " [-1.240625 -1.18125 ]\n",
            " [-1.18125  -1.121875]\n",
            " [-1.121875 -1.0625  ]\n",
            " [-1.0625   -1.003125]\n",
            " [-1.003125 -0.94375 ]\n",
            " [-0.94375  -0.884375]\n",
            " [-0.884375 -0.825   ]\n",
            " [-0.825    -0.765625]\n",
            " [-0.765625 -0.70625 ]\n",
            " [-0.70625  -0.646875]\n",
            " [-0.646875 -0.5875  ]\n",
            " [-0.5875   -0.528125]\n",
            " [-0.528125 -0.46875 ]\n",
            " [-0.46875  -0.409375]\n",
            " [-0.409375 -0.35    ]\n",
            " [-0.35     -0.290625]\n",
            " [-0.290625 -0.23125 ]\n",
            " [-0.23125  -0.171875]\n",
            " [-0.171875 -0.1125  ]\n",
            " [-0.1125   -0.053125]\n",
            " [-0.053125  0.00625 ]\n",
            " [ 0.00625   0.065625]\n",
            " [ 0.065625  0.125   ]\n",
            " [ 0.125     0.184375]\n",
            " [ 0.184375  0.24375 ]\n",
            " [ 0.24375   0.303125]\n",
            " [ 0.303125  0.3625  ]\n",
            " [ 0.3625    0.421875]\n",
            " [ 0.421875  0.48125 ]\n",
            " [ 0.48125   0.540625]\n",
            " [ 0.540625  0.6     ]\n",
            " [ 0.6       0.659375]\n",
            " [ 0.659375  0.71875 ]\n",
            " [ 0.71875   0.778125]\n",
            " [ 0.778125  0.8375  ]\n",
            " [ 0.8375    0.896875]\n",
            " [ 0.896875  0.95625 ]\n",
            " [ 0.95625   1.015625]\n",
            " [ 1.015625  1.075   ]\n",
            " [ 1.075     1.134375]\n",
            " [ 1.134375  1.19375 ]\n",
            " [ 1.19375   1.253125]\n",
            " [ 1.253125  1.3125  ]\n",
            " [ 1.3125    1.371875]\n",
            " [ 1.371875  1.43125 ]\n",
            " [ 1.43125   1.490625]\n",
            " [ 1.490625  1.55    ]\n",
            " [ 1.55      1.609375]\n",
            " [ 1.609375  1.66875 ]\n",
            " [ 1.66875   1.728125]\n",
            " [ 1.728125  1.7875  ]\n",
            " [ 1.7875    1.846875]\n",
            " [ 1.846875  1.90625 ]\n",
            " [ 1.90625   1.965625]\n",
            " [ 1.965625  2.025   ]\n",
            " [ 2.025     2.084375]\n",
            " [ 2.084375  2.14375 ]\n",
            " [ 2.14375   2.203125]\n",
            " [ 2.203125  2.2625  ]\n",
            " [ 2.2625    2.321875]\n",
            " [ 2.321875  2.38125 ]\n",
            " [ 2.38125   2.440625]\n",
            " [ 2.440625  2.5     ]]\n"
          ],
          "name": "stdout"
        }
      ]
    },
    {
      "metadata": {
        "id": "dBoH_A7M9jjL",
        "colab_type": "text"
      },
      "cell_type": "markdown",
      "source": [
        "2) Generate an array of length 3n filled with the cyclic pattern 1, 2, 3"
      ]
    },
    {
      "metadata": {
        "id": "4TxT66309n1o",
        "colab_type": "code",
        "colab": {
          "base_uri": "https://localhost:8080/",
          "height": 34
        },
        "outputId": "2d3f1dcf-dcc9-4a38-b015-bae602add931"
      },
      "cell_type": "code",
      "source": [
        "a= np.array([1,2,3])\n",
        "n=5\n",
        "a=np.resize(a,3*n)\n",
        "print(a)"
      ],
      "execution_count": 0,
      "outputs": [
        {
          "output_type": "stream",
          "text": [
            "[1 2 3 1 2 3 1 2 3 1 2 3 1 2 3]\n"
          ],
          "name": "stdout"
        }
      ]
    },
    {
      "metadata": {
        "id": "Vh-UKizx9oTp",
        "colab_type": "text"
      },
      "cell_type": "markdown",
      "source": [
        "3) Create an array of the first 10 odd integers."
      ]
    },
    {
      "metadata": {
        "id": "ebhEUZq29r32",
        "colab_type": "code",
        "colab": {
          "base_uri": "https://localhost:8080/",
          "height": 34
        },
        "outputId": "10c7e342-95ee-4908-f2ef-e57fe4e9da7f"
      },
      "cell_type": "code",
      "source": [
        "a=np.arange(1,20,2)\n",
        "print(a)"
      ],
      "execution_count": 0,
      "outputs": [
        {
          "output_type": "stream",
          "text": [
            "[ 1  3  5  7  9 11 13 15 17 19]\n"
          ],
          "name": "stdout"
        }
      ]
    },
    {
      "metadata": {
        "id": "QfJRdMat90f4",
        "colab_type": "text"
      },
      "cell_type": "markdown",
      "source": [
        "4) Find intersection of a and b"
      ]
    },
    {
      "metadata": {
        "id": "gOlfuJCo-JwF",
        "colab_type": "code",
        "colab": {
          "base_uri": "https://localhost:8080/",
          "height": 34
        },
        "outputId": "30bf6ff6-f48d-4ef3-9fb0-dd07d5b3a715"
      },
      "cell_type": "code",
      "source": [
        "#expected output array([2, 4])\n",
        "a = np.array([1,2,3,2,3,4,3,4,5,6])\n",
        "b = np.array([7,2,10,2,7,4,9,4,9,8])\n",
        "\"\"\"\n",
        "c=[]\n",
        "for x in set(a):\n",
        "  if x in set(b):\n",
        "    c.append(x)\n",
        "print(np.array(c))\n",
        "\"\"\"\n",
        "c=np.intersect1d(a,b)\n",
        "print(c)"
      ],
      "execution_count": 0,
      "outputs": [
        {
          "output_type": "stream",
          "text": [
            "[2 4]\n"
          ],
          "name": "stdout"
        }
      ]
    },
    {
      "metadata": {
        "id": "RtVCf0UoCeB8",
        "colab_type": "text"
      },
      "cell_type": "markdown",
      "source": [
        "5) Reshape 1d array a to 2d array of 2X5"
      ]
    },
    {
      "metadata": {
        "id": "2E8b55_2Cjx5",
        "colab_type": "code",
        "colab": {
          "base_uri": "https://localhost:8080/",
          "height": 51
        },
        "outputId": "06f80d9f-bc1f-4054-b882-036edcc1988f"
      },
      "cell_type": "code",
      "source": [
        "a = np.arange(10)\n",
        "a=a.reshape(2,5)\n",
        "print(a)"
      ],
      "execution_count": 0,
      "outputs": [
        {
          "output_type": "stream",
          "text": [
            "[[0 1 2 3 4]\n",
            " [5 6 7 8 9]]\n"
          ],
          "name": "stdout"
        }
      ]
    },
    {
      "metadata": {
        "id": "dVrSBW1zEjp2",
        "colab_type": "text"
      },
      "cell_type": "markdown",
      "source": [
        "6) Create a numpy array to list and vice versa"
      ]
    },
    {
      "metadata": {
        "id": "tcBCyhXPEp9C",
        "colab_type": "code",
        "colab": {
          "base_uri": "https://localhost:8080/",
          "height": 51
        },
        "outputId": "551f0059-ff4b-47bb-aab4-cf3f28f8fa49"
      },
      "cell_type": "code",
      "source": [
        "a = [1, 2, 3, 4, 5, 6, 7, 8, 9]\n",
        "a= np.array(a)\n",
        "print(a)\n",
        "#converting numpy array to list\n",
        "a=a.tolist()\n",
        "print(a)"
      ],
      "execution_count": 0,
      "outputs": [
        {
          "output_type": "stream",
          "text": [
            "[1 2 3 4 5 6 7 8 9]\n",
            "[1, 2, 3, 4, 5, 6, 7, 8, 9]\n"
          ],
          "name": "stdout"
        }
      ]
    },
    {
      "metadata": {
        "id": "JNqX8wnz9sQJ",
        "colab_type": "text"
      },
      "cell_type": "markdown",
      "source": [
        "7) Create a 10 x 10 arrays of zeros and then \"frame\" it with a border of ones."
      ]
    },
    {
      "metadata": {
        "id": "4bjP3JAc9vRD",
        "colab_type": "code",
        "colab": {
          "base_uri": "https://localhost:8080/",
          "height": 374
        },
        "outputId": "49355292-40c3-4b1e-c23e-c2c9e806ac73"
      },
      "cell_type": "code",
      "source": [
        "a=np.zeros((10,10))\n",
        "print(a)\n",
        "print()\n",
        "a[[0,9],:]=1\n",
        "a[:,[0,9]]=1\n",
        "print(a)"
      ],
      "execution_count": 19,
      "outputs": [
        {
          "output_type": "stream",
          "text": [
            "[[0. 0. 0. 0. 0. 0. 0. 0. 0. 0.]\n",
            " [0. 0. 0. 0. 0. 0. 0. 0. 0. 0.]\n",
            " [0. 0. 0. 0. 0. 0. 0. 0. 0. 0.]\n",
            " [0. 0. 0. 0. 0. 0. 0. 0. 0. 0.]\n",
            " [0. 0. 0. 0. 0. 0. 0. 0. 0. 0.]\n",
            " [0. 0. 0. 0. 0. 0. 0. 0. 0. 0.]\n",
            " [0. 0. 0. 0. 0. 0. 0. 0. 0. 0.]\n",
            " [0. 0. 0. 0. 0. 0. 0. 0. 0. 0.]\n",
            " [0. 0. 0. 0. 0. 0. 0. 0. 0. 0.]\n",
            " [0. 0. 0. 0. 0. 0. 0. 0. 0. 0.]]\n",
            "\n",
            "[[1. 1. 1. 1. 1. 1. 1. 1. 1. 1.]\n",
            " [1. 0. 0. 0. 0. 0. 0. 0. 0. 1.]\n",
            " [1. 0. 0. 0. 0. 0. 0. 0. 0. 1.]\n",
            " [1. 0. 0. 0. 0. 0. 0. 0. 0. 1.]\n",
            " [1. 0. 0. 0. 0. 0. 0. 0. 0. 1.]\n",
            " [1. 0. 0. 0. 0. 0. 0. 0. 0. 1.]\n",
            " [1. 0. 0. 0. 0. 0. 0. 0. 0. 1.]\n",
            " [1. 0. 0. 0. 0. 0. 0. 0. 0. 1.]\n",
            " [1. 0. 0. 0. 0. 0. 0. 0. 0. 1.]\n",
            " [1. 1. 1. 1. 1. 1. 1. 1. 1. 1.]]\n"
          ],
          "name": "stdout"
        }
      ]
    },
    {
      "metadata": {
        "id": "xaQgf8tT9v-n",
        "colab_type": "text"
      },
      "cell_type": "markdown",
      "source": [
        "8) Create an 8 x 8 array with a checkerboard pattern of zeros and ones using a slicing+striding approach."
      ]
    },
    {
      "metadata": {
        "id": "No7fx0Xy9zEh",
        "colab_type": "code",
        "colab": {
          "base_uri": "https://localhost:8080/",
          "height": 153
        },
        "outputId": "e4182c7e-5720-4232-dda8-79153f6623ca"
      },
      "cell_type": "code",
      "source": [
        "a= np.ones((8,8))\n",
        "a[0::2,0::2]=0\n",
        "a[1::2,1::2]=0\n",
        "print(a)"
      ],
      "execution_count": 47,
      "outputs": [
        {
          "output_type": "stream",
          "text": [
            "[[0. 1. 0. 1. 0. 1. 0. 1.]\n",
            " [1. 0. 1. 0. 1. 0. 1. 0.]\n",
            " [0. 1. 0. 1. 0. 1. 0. 1.]\n",
            " [1. 0. 1. 0. 1. 0. 1. 0.]\n",
            " [0. 1. 0. 1. 0. 1. 0. 1.]\n",
            " [1. 0. 1. 0. 1. 0. 1. 0.]\n",
            " [0. 1. 0. 1. 0. 1. 0. 1.]\n",
            " [1. 0. 1. 0. 1. 0. 1. 0.]]\n"
          ],
          "name": "stdout"
        }
      ]
    },
    {
      "metadata": {
        "id": "3COTXjzO-pNw",
        "colab_type": "code",
        "colab": {}
      },
      "cell_type": "code",
      "source": [
        ""
      ],
      "execution_count": 0,
      "outputs": []
    }
  ]
}