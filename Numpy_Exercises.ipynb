{
  "nbformat": 4,
  "nbformat_minor": 0,
  "metadata": {
    "colab": {
      "name": "Numpy_Exercises.ipynb",
      "version": "0.3.2",
      "provenance": [],
      "include_colab_link": true
    },
    "kernelspec": {
      "name": "python3",
      "display_name": "Python 3"
    }
  },
  "cells": [
    {
      "cell_type": "markdown",
      "metadata": {
        "id": "view-in-github",
        "colab_type": "text"
      },
      "source": [
        "[View in Colaboratory](https://colab.research.google.com/github/lakshya1604/Assignment-2/blob/lakshya1604/Numpy_Exercises.ipynb)"
      ]
    },
    {
      "metadata": {
        "id": "a_4UupTr9fbX",
        "colab_type": "text"
      },
      "cell_type": "markdown",
      "source": [
        "# Numpy Exercises\n",
        "\n",
        "1) Create a uniform subdivision of the interval -1.3 to 2.5 with 64 subdivisions"
      ]
    },
    {
      "metadata": {
        "id": "LIP5u4zi0Nmg",
        "colab_type": "code",
        "colab": {
          "base_uri": "https://localhost:8080/",
          "height": 240
        },
        "outputId": "eb11b85b-72c3-4ba7-b27c-a97b82c25578"
      },
      "cell_type": "code",
      "source": [
        "import numpy as np #import numpy\n",
        "n= np.linspace(-1.3,2.5,64)\n",
        "n"
      ],
      "execution_count": 1,
      "outputs": [
        {
          "output_type": "execute_result",
          "data": {
            "text/plain": [
              "array([-1.3       , -1.23968254, -1.17936508, -1.11904762, -1.05873016,\n",
              "       -0.9984127 , -0.93809524, -0.87777778, -0.81746032, -0.75714286,\n",
              "       -0.6968254 , -0.63650794, -0.57619048, -0.51587302, -0.45555556,\n",
              "       -0.3952381 , -0.33492063, -0.27460317, -0.21428571, -0.15396825,\n",
              "       -0.09365079, -0.03333333,  0.02698413,  0.08730159,  0.14761905,\n",
              "        0.20793651,  0.26825397,  0.32857143,  0.38888889,  0.44920635,\n",
              "        0.50952381,  0.56984127,  0.63015873,  0.69047619,  0.75079365,\n",
              "        0.81111111,  0.87142857,  0.93174603,  0.99206349,  1.05238095,\n",
              "        1.11269841,  1.17301587,  1.23333333,  1.29365079,  1.35396825,\n",
              "        1.41428571,  1.47460317,  1.53492063,  1.5952381 ,  1.65555556,\n",
              "        1.71587302,  1.77619048,  1.83650794,  1.8968254 ,  1.95714286,\n",
              "        2.01746032,  2.07777778,  2.13809524,  2.1984127 ,  2.25873016,\n",
              "        2.31904762,  2.37936508,  2.43968254,  2.5       ])"
            ]
          },
          "metadata": {
            "tags": []
          },
          "execution_count": 1
        }
      ]
    },
    {
      "metadata": {
        "id": "dBoH_A7M9jjL",
        "colab_type": "text"
      },
      "cell_type": "markdown",
      "source": [
        "2) Generate an array of length 3n filled with the cyclic pattern 1, 2, 3"
      ]
    },
    {
      "metadata": {
        "id": "4TxT66309n1o",
        "colab_type": "code",
        "colab": {
          "base_uri": "https://localhost:8080/",
          "height": 34
        },
        "outputId": "9ff435ab-fc4f-410a-92d8-1229ff8946d9"
      },
      "cell_type": "code",
      "source": [
        "n=2\n",
        "a= np.array([1,2,3])\n",
        "b=np.resize(a,3*3*n)\n",
        "b"
      ],
      "execution_count": 2,
      "outputs": [
        {
          "output_type": "execute_result",
          "data": {
            "text/plain": [
              "array([1, 2, 3, 1, 2, 3, 1, 2, 3, 1, 2, 3, 1, 2, 3, 1, 2, 3])"
            ]
          },
          "metadata": {
            "tags": []
          },
          "execution_count": 2
        }
      ]
    },
    {
      "metadata": {
        "id": "Vh-UKizx9oTp",
        "colab_type": "text"
      },
      "cell_type": "markdown",
      "source": [
        "3) Create an array of the first 10 odd integers."
      ]
    },
    {
      "metadata": {
        "id": "ebhEUZq29r32",
        "colab_type": "code",
        "colab": {
          "base_uri": "https://localhost:8080/",
          "height": 34
        },
        "outputId": "914d901d-f680-47b3-cf9b-cf06ccd3239d"
      },
      "cell_type": "code",
      "source": [
        "a=np.arange(1,20,2)\n",
        "print(a)"
      ],
      "execution_count": 3,
      "outputs": [
        {
          "output_type": "stream",
          "text": [
            "[ 1  3  5  7  9 11 13 15 17 19]\n"
          ],
          "name": "stdout"
        }
      ]
    },
    {
      "metadata": {
        "id": "QfJRdMat90f4",
        "colab_type": "text"
      },
      "cell_type": "markdown",
      "source": [
        "4) Find intersection of a and b"
      ]
    },
    {
      "metadata": {
        "id": "gOlfuJCo-JwF",
        "colab_type": "code",
        "colab": {
          "base_uri": "https://localhost:8080/",
          "height": 34
        },
        "outputId": "a3adda35-7c3b-4544-cd90-98601f79f1c9"
      },
      "cell_type": "code",
      "source": [
        "#expected output array([2, 4])\n",
        "a = np.array([1,2,3,2,3,4,3,4,5,6])\n",
        "b = np.array([7,2,10,2,7,4,9,4,9,8])\n",
        "intersect = np.intersect1d(a,b)\n",
        "print (intersect)"
      ],
      "execution_count": 4,
      "outputs": [
        {
          "output_type": "stream",
          "text": [
            "[2 4]\n"
          ],
          "name": "stdout"
        }
      ]
    },
    {
      "metadata": {
        "id": "RtVCf0UoCeB8",
        "colab_type": "text"
      },
      "cell_type": "markdown",
      "source": [
        "5) Reshape 1d array a to 2d array of 2X5"
      ]
    },
    {
      "metadata": {
        "id": "2E8b55_2Cjx5",
        "colab_type": "code",
        "colab": {
          "base_uri": "https://localhost:8080/",
          "height": 51
        },
        "outputId": "644b0469-8d4c-437c-f7ab-0ea10f818dad"
      },
      "cell_type": "code",
      "source": [
        "a = np.arange(10).reshape(2,5)\n",
        "print (a)"
      ],
      "execution_count": 5,
      "outputs": [
        {
          "output_type": "stream",
          "text": [
            "[[0 1 2 3 4]\n",
            " [5 6 7 8 9]]\n"
          ],
          "name": "stdout"
        }
      ]
    },
    {
      "metadata": {
        "id": "dVrSBW1zEjp2",
        "colab_type": "text"
      },
      "cell_type": "markdown",
      "source": [
        "6) Create a numpy array to list and vice versa"
      ]
    },
    {
      "metadata": {
        "id": "tcBCyhXPEp9C",
        "colab_type": "code",
        "colab": {
          "base_uri": "https://localhost:8080/",
          "height": 51
        },
        "outputId": "a4093988-ee27-4ed5-ddfb-101d7b29d8b4"
      },
      "cell_type": "code",
      "source": [
        "a = [1, 2, 3, 4, 5, 6, 7, 8, 9]\n",
        "arr = np.array(a)\n",
        "print(arr)\n",
        "lis = np.ndarray.tolist(arr)\n",
        "print(lis)"
      ],
      "execution_count": 6,
      "outputs": [
        {
          "output_type": "stream",
          "text": [
            "[1 2 3 4 5 6 7 8 9]\n",
            "[1, 2, 3, 4, 5, 6, 7, 8, 9]\n"
          ],
          "name": "stdout"
        }
      ]
    },
    {
      "metadata": {
        "id": "JNqX8wnz9sQJ",
        "colab_type": "text"
      },
      "cell_type": "markdown",
      "source": [
        "7) Create a 10 x 10 arrays of zeros and then \"frame\" it with a border of ones."
      ]
    },
    {
      "metadata": {
        "id": "4bjP3JAc9vRD",
        "colab_type": "code",
        "colab": {
          "base_uri": "https://localhost:8080/",
          "height": 188
        },
        "outputId": "db732200-d62d-437e-b719-6bae905ea4a4"
      },
      "cell_type": "code",
      "source": [
        "n=np.zeros(shape=(10,10))\n",
        "n[0,:]=1\n",
        "n[:,0]=1\n",
        "n[:,9]=1\n",
        "n[9,:]=1\n",
        "n"
      ],
      "execution_count": 7,
      "outputs": [
        {
          "output_type": "execute_result",
          "data": {
            "text/plain": [
              "array([[1., 1., 1., 1., 1., 1., 1., 1., 1., 1.],\n",
              "       [1., 0., 0., 0., 0., 0., 0., 0., 0., 1.],\n",
              "       [1., 0., 0., 0., 0., 0., 0., 0., 0., 1.],\n",
              "       [1., 0., 0., 0., 0., 0., 0., 0., 0., 1.],\n",
              "       [1., 0., 0., 0., 0., 0., 0., 0., 0., 1.],\n",
              "       [1., 0., 0., 0., 0., 0., 0., 0., 0., 1.],\n",
              "       [1., 0., 0., 0., 0., 0., 0., 0., 0., 1.],\n",
              "       [1., 0., 0., 0., 0., 0., 0., 0., 0., 1.],\n",
              "       [1., 0., 0., 0., 0., 0., 0., 0., 0., 1.],\n",
              "       [1., 1., 1., 1., 1., 1., 1., 1., 1., 1.]])"
            ]
          },
          "metadata": {
            "tags": []
          },
          "execution_count": 7
        }
      ]
    },
    {
      "metadata": {
        "id": "xaQgf8tT9v-n",
        "colab_type": "text"
      },
      "cell_type": "markdown",
      "source": [
        "8) Create an 8 x 8 array with a checkerboard pattern of zeros and ones using a slicing+striding approach."
      ]
    },
    {
      "metadata": {
        "id": "No7fx0Xy9zEh",
        "colab_type": "code",
        "colab": {
          "base_uri": "https://localhost:8080/",
          "height": 154
        },
        "outputId": "eef1a144-fa69-4d68-a8d2-c39798fd2605"
      },
      "cell_type": "code",
      "source": [
        "a=np.zeros((8,8),dtype=int)\n",
        "a[1::2,::2]=1\n",
        "a[::2,1::2]=1\n",
        "print(a)\n"
      ],
      "execution_count": 8,
      "outputs": [
        {
          "output_type": "stream",
          "text": [
            "[[0 1 0 1 0 1 0 1]\n",
            " [1 0 1 0 1 0 1 0]\n",
            " [0 1 0 1 0 1 0 1]\n",
            " [1 0 1 0 1 0 1 0]\n",
            " [0 1 0 1 0 1 0 1]\n",
            " [1 0 1 0 1 0 1 0]\n",
            " [0 1 0 1 0 1 0 1]\n",
            " [1 0 1 0 1 0 1 0]]\n"
          ],
          "name": "stdout"
        }
      ]
    },
    {
      "metadata": {
        "id": "uYLT8d5MdJCo",
        "colab_type": "code",
        "colab": {}
      },
      "cell_type": "code",
      "source": [
        ""
      ],
      "execution_count": 0,
      "outputs": []
    }
  ]
}