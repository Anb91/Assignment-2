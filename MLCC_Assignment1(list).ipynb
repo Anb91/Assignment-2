{
  "nbformat": 4,
  "nbformat_minor": 0,
  "metadata": {
    "colab": {
      "name": "MLCC Assignment1(list).ipynb",
      "version": "0.3.2",
      "provenance": [],
      "include_colab_link": true
    },
    "kernelspec": {
      "name": "python3",
      "display_name": "Python 3"
    }
  },
  "cells": [
    {
      "cell_type": "markdown",
      "metadata": {
        "id": "view-in-github",
        "colab_type": "text"
      },
      "source": [
        "[View in Colaboratory](https://colab.research.google.com/github/rupamcyrax799/Assignment-2/blob/rupamcyrax799/MLCC_Assignment1(list).ipynb)"
      ]
    },
    {
      "metadata": {
        "id": "aN4iVk9lG6HQ",
        "colab_type": "code",
        "colab": {}
      },
      "cell_type": "code",
      "source": [
        "dummy_list =[1,3,59,5,458,54,11,554]\n",
        "print (dummy_list)"
      ],
      "execution_count": 0,
      "outputs": []
    },
    {
      "metadata": {
        "id": "sj5ga87WHJNT",
        "colab_type": "code",
        "colab": {}
      },
      "cell_type": "code",
      "source": [
        "dummy_list.reverse()\n",
        "print(dummy_list)"
      ],
      "execution_count": 0,
      "outputs": []
    },
    {
      "metadata": {
        "id": "mvT9ep4OHL60",
        "colab_type": "code",
        "colab": {}
      },
      "cell_type": "code",
      "source": [
        "dummy_list_2=[2,200,16,4,1,0,9.45,45.67,90,12.01,12.02]\n",
        "dummy_list.extend(dummy_list_2)\n",
        "print (dummy_list)"
      ],
      "execution_count": 0,
      "outputs": []
    },
    {
      "metadata": {
        "id": "WKvDHm2jHN9L",
        "colab_type": "code",
        "colab": {}
      },
      "cell_type": "code",
      "source": [
        "\n",
        "l= len(dummy_list)\n",
        "dummy_dict={}\n",
        "i=0\n",
        "for i in range(l) :\n",
        "  dummy_dict[dummy_list[i]]=i\n",
        "  if i==l:break;\n",
        "   "
      ],
      "execution_count": 0,
      "outputs": []
    },
    {
      "metadata": {
        "id": "VKcUTYX6HRFc",
        "colab_type": "code",
        "colab": {}
      },
      "cell_type": "code",
      "source": [
        "#printing the Dictionary\n",
        "print(dummy_dict) "
      ],
      "execution_count": 0,
      "outputs": []
    },
    {
      "metadata": {
        "id": "wRjbs4BdHUSR",
        "colab_type": "code",
        "colab": {}
      },
      "cell_type": "code",
      "source": [
        "#Ascending Order\n",
        "dummy_list.sort()\n",
        "print(dummy_list)\n",
        "#Decennding Order\n",
        "dummy_list.sort(reverse=True)\n",
        "print(dummy_lis"
      ],
      "execution_count": 0,
      "outputs": []
    },
    {
      "metadata": {
        "id": "NbwBhXuYHaCq",
        "colab_type": "code",
        "colab": {}
      },
      "cell_type": "code",
      "source": [
        "#Removing elements in a list \n",
        "print(dummy_list)\n",
        "x=200\n",
        "dummy_list.remove(x)\n",
        "print(dummy_list)"
      ],
      "execution_count": 0,
      "outputs": []
    },
    {
      "metadata": {
        "id": "MSGl3znpHckS",
        "colab_type": "code",
        "colab": {}
      },
      "cell_type": "code",
      "source": [
        "#Removing elemets input by the user\n",
        "count=l+1\n",
        "#print (count)\n",
        "x= input (\"Enter a number greater than \"+str(count)+\":\")\n",
        "dummy_list.remove(int(x))\n",
        "print(dummy_list)"
      ],
      "execution_count": 0,
      "outputs": []
    },
    {
      "metadata": {
        "id": "RChpw-z2HtbR",
        "colab_type": "code",
        "colab": {}
      },
      "cell_type": "code",
      "source": [
        "#Clear list\n",
        "dummy_list.clear()\n",
        "print (dummy_list)"
      ],
      "execution_count": 0,
      "outputs": []
    }
  ]
}