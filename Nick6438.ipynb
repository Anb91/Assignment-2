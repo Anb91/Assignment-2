{
  "nbformat": 4,
  "nbformat_minor": 0,
  "metadata": {
    "colab": {
      "name": "Nick6438.ipynb",
      "version": "0.3.2",
      "provenance": []
    },
    "kernelspec": {
      "display_name": "Python 3",
      "language": "python",
      "name": "python3"
    }
  },
  "cells": [
    {
      "metadata": {
        "id": "ds1Xwbvej15f",
        "colab_type": "code",
        "colab": {
          "base_uri": "https://localhost:8080/",
          "height": 207
        },
        "outputId": "310e0110-3103-4ed8-ac65-23639296fd10"
      },
      "cell_type": "code",
      "source": [
        "# Exercise - List\n",
        "\n",
        "#1) Create  any random list and assign it to a variable dummy_list\n",
        "\n",
        "dummy_list=[1,2,3,4,5]\n",
        "\n",
        "#2) print dummy_list\n",
        "\n",
        "print (dummy_list)\n",
        "\n",
        "#3) Reverse dummy_list and print\n",
        "\n",
        "dummy_list.reverse()\n",
        "\n",
        "print (dummy_list)\n",
        "\n",
        "#4) Add the list dummy_list_2 to the previous dummy_list and now print dummy_list\n",
        "\n",
        "dummy_list_2 = [2, 200, 16, 4, 1, 0, 9.45, 45.67, 90, 12.01, 12.02]\n",
        "\n",
        "dummy_list = dummy_list + dummy_list_2\n",
        "\n",
        "print (dummy_list)\n",
        "\n",
        "#5) Create a dictionary named dummy_dict which contains all the elements of dummy_list as keys and frequency as values. \n",
        "\n",
        "dummy_dict = {5: 'frequency=1', 4: 'frequency=2', 3: 'frequency=1', 2: 'frequency=2', 1: 'frequency=2', 2: 'frequency=2', 200: 'frequency=1', 16: 'frequency=1', 4: 'frequency=2', 1: 'frequency=2', 0: 'frequency=1', 9.45: 'frequency=1', 45.67: 'frequency=1', 90: 'frequency=1', 12.01: 'frequency=1', 12.02: 'frequency=1'} # here I used two 4,2 and 1 as key in two places, but the last one each of keys will print\n",
        "\n",
        "#6) print dummy_dict\n",
        "\n",
        "print (dummy_dict)\n",
        "\n",
        "#7) Sort dummy_list in ascending order as well as descending order and print the changed lists \n",
        "\n",
        "dummy_list.sort()\n",
        "\n",
        "print (dummy_list)\n",
        "\n",
        "dummy_list.sort(reverse=True)\n",
        "\n",
        "print (dummy_list)\n",
        "\n",
        "#8) Remove the first item from the list whose value is equal to x. It raises a ValueError if there is no such item.\n",
        "\n",
        "x = 200\n",
        "\n",
        "# Let's play: try the same with something which is not in the list to get the ValueError\n",
        "\n",
        "dummy_list.remove(x)\n",
        "\n",
        "print (dummy_list)\n",
        "\n",
        "# dummy_list.remove(x) # it will show a ValueError now because x containing a value of 200 was already removed from the list and there is no such value equals to x\n",
        "\n",
        "#9) Remove the item at position x. x is any random integer\n",
        "\n",
        "x = 16\n",
        "\n",
        "dummy_list.remove(x)\n",
        "\n",
        "print (dummy_list)\n",
        "\n",
        "# Let's play: try doing the same with x > len(dummy_list) + 1 and see what you get\n",
        "\n",
        "dummy_list.remove(x > len(dummy_list) + 1) # it will remove the 1\n",
        "\n",
        "print (dummy_list)\n",
        "\n",
        "#10) Let's clean everything clear the list and then print\n",
        "\n",
        "dummy_list.clear()\n",
        "\n",
        "print (dummy_list)\n"
      ],
      "execution_count": 1,
      "outputs": [
        {
          "output_type": "stream",
          "text": [
            "[1, 2, 3, 4, 5]\n",
            "[5, 4, 3, 2, 1]\n",
            "[5, 4, 3, 2, 1, 2, 200, 16, 4, 1, 0, 9.45, 45.67, 90, 12.01, 12.02]\n",
            "{5: 'frequency=1', 4: 'frequency=2', 3: 'frequency=1', 2: 'frequency=2', 1: 'frequency=2', 200: 'frequency=1', 16: 'frequency=1', 0: 'frequency=1', 9.45: 'frequency=1', 45.67: 'frequency=1', 90: 'frequency=1', 12.01: 'frequency=1', 12.02: 'frequency=1'}\n",
            "[0, 1, 1, 2, 2, 3, 4, 4, 5, 9.45, 12.01, 12.02, 16, 45.67, 90, 200]\n",
            "[200, 90, 45.67, 16, 12.02, 12.01, 9.45, 5, 4, 4, 3, 2, 2, 1, 1, 0]\n",
            "[90, 45.67, 16, 12.02, 12.01, 9.45, 5, 4, 4, 3, 2, 2, 1, 1, 0]\n",
            "[90, 45.67, 12.02, 12.01, 9.45, 5, 4, 4, 3, 2, 2, 1, 1, 0]\n",
            "[90, 45.67, 12.02, 12.01, 9.45, 5, 4, 4, 3, 2, 2, 1, 0]\n",
            "[]\n"
          ],
          "name": "stdout"
        }
      ]
    }
  ]
}